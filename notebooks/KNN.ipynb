{
 "cells": [
  {
   "cell_type": "markdown",
   "id": "c1de66ec",
   "metadata": {
    "heading_collapsed": true
   },
   "source": [
    "# 1.0 IMPORTS"
   ]
  },
  {
   "cell_type": "code",
   "execution_count": 1,
   "id": "189f6e27",
   "metadata": {
    "ExecuteTime": {
     "end_time": "2023-05-21T14:33:18.469548Z",
     "start_time": "2023-05-21T14:33:15.948555Z"
    },
    "hidden": true
   },
   "outputs": [],
   "source": [
    "import pandas as pd\n",
    "from sklearn.neighbors import KNeighborsClassifier\n",
    "from sklearn import metrics as mt\n",
    "import matplotlib.pyplot as plt\n",
    "import random"
   ]
  },
  {
   "cell_type": "markdown",
   "id": "121525b6",
   "metadata": {
    "heading_collapsed": true,
    "hidden": true
   },
   "source": [
    "## 1.1 Load dataset"
   ]
  },
  {
   "cell_type": "code",
   "execution_count": 2,
   "id": "bd835c79",
   "metadata": {
    "ExecuteTime": {
     "end_time": "2023-05-21T14:33:18.500602Z",
     "start_time": "2023-05-21T14:33:18.472265Z"
    },
    "hidden": true,
    "scrolled": true
   },
   "outputs": [],
   "source": [
    "df = pd.read_csv('../data/train.csv')"
   ]
  },
  {
   "cell_type": "code",
   "execution_count": 3,
   "id": "a54ab933",
   "metadata": {
    "ExecuteTime": {
     "end_time": "2023-05-21T14:33:18.531810Z",
     "start_time": "2023-05-21T14:33:18.501560Z"
    },
    "hidden": true
   },
   "outputs": [
    {
     "data": {
      "text/html": [
       "<div>\n",
       "<style scoped>\n",
       "    .dataframe tbody tr th:only-of-type {\n",
       "        vertical-align: middle;\n",
       "    }\n",
       "\n",
       "    .dataframe tbody tr th {\n",
       "        vertical-align: top;\n",
       "    }\n",
       "\n",
       "    .dataframe thead th {\n",
       "        text-align: right;\n",
       "    }\n",
       "</style>\n",
       "<table border=\"1\" class=\"dataframe\">\n",
       "  <thead>\n",
       "    <tr style=\"text-align: right;\">\n",
       "      <th></th>\n",
       "      <th>id_cliente</th>\n",
       "      <th>idade</th>\n",
       "      <th>saldo_atual</th>\n",
       "      <th>divida_atual</th>\n",
       "      <th>renda_anual</th>\n",
       "      <th>valor_em_investimentos</th>\n",
       "      <th>taxa_utilizacao_credito</th>\n",
       "      <th>num_emprestimos</th>\n",
       "      <th>num_contas_bancarias</th>\n",
       "      <th>num_cartoes_credito</th>\n",
       "      <th>dias_atraso_dt_venc</th>\n",
       "      <th>num_pgtos_atrasados</th>\n",
       "      <th>num_consultas_credito</th>\n",
       "      <th>taxa_juros</th>\n",
       "      <th>investe_exterior</th>\n",
       "      <th>pessoa_polit_exp</th>\n",
       "      <th>limite_adicional</th>\n",
       "    </tr>\n",
       "  </thead>\n",
       "  <tbody>\n",
       "    <tr>\n",
       "      <th>0</th>\n",
       "      <td>1767</td>\n",
       "      <td>21</td>\n",
       "      <td>278.172008</td>\n",
       "      <td>2577.05</td>\n",
       "      <td>24196.89636</td>\n",
       "      <td>104.306544</td>\n",
       "      <td>31.038763</td>\n",
       "      <td>6</td>\n",
       "      <td>5</td>\n",
       "      <td>7</td>\n",
       "      <td>21</td>\n",
       "      <td>14</td>\n",
       "      <td>9</td>\n",
       "      <td>15</td>\n",
       "      <td>Não</td>\n",
       "      <td>Não</td>\n",
       "      <td>Negar</td>\n",
       "    </tr>\n",
       "    <tr>\n",
       "      <th>1</th>\n",
       "      <td>11920</td>\n",
       "      <td>40</td>\n",
       "      <td>268.874152</td>\n",
       "      <td>2465.39</td>\n",
       "      <td>19227.37796</td>\n",
       "      <td>69.858778</td>\n",
       "      <td>36.917093</td>\n",
       "      <td>5</td>\n",
       "      <td>8</td>\n",
       "      <td>5</td>\n",
       "      <td>40</td>\n",
       "      <td>23</td>\n",
       "      <td>10</td>\n",
       "      <td>18</td>\n",
       "      <td>Não</td>\n",
       "      <td>Não</td>\n",
       "      <td>Negar</td>\n",
       "    </tr>\n",
       "    <tr>\n",
       "      <th>2</th>\n",
       "      <td>8910</td>\n",
       "      <td>36</td>\n",
       "      <td>446.643127</td>\n",
       "      <td>1055.29</td>\n",
       "      <td>42822.28223</td>\n",
       "      <td>134.201478</td>\n",
       "      <td>34.561714</td>\n",
       "      <td>0</td>\n",
       "      <td>3</td>\n",
       "      <td>6</td>\n",
       "      <td>26</td>\n",
       "      <td>13</td>\n",
       "      <td>3</td>\n",
       "      <td>15</td>\n",
       "      <td>Sim</td>\n",
       "      <td>Não</td>\n",
       "      <td>Negar</td>\n",
       "    </tr>\n",
       "    <tr>\n",
       "      <th>3</th>\n",
       "      <td>4964</td>\n",
       "      <td>58</td>\n",
       "      <td>321.141267</td>\n",
       "      <td>703.05</td>\n",
       "      <td>51786.82600</td>\n",
       "      <td>297.350067</td>\n",
       "      <td>31.493561</td>\n",
       "      <td>0</td>\n",
       "      <td>3</td>\n",
       "      <td>7</td>\n",
       "      <td>12</td>\n",
       "      <td>7</td>\n",
       "      <td>2</td>\n",
       "      <td>1</td>\n",
       "      <td>Sim</td>\n",
       "      <td>Não</td>\n",
       "      <td>Negar</td>\n",
       "    </tr>\n",
       "    <tr>\n",
       "      <th>4</th>\n",
       "      <td>10100</td>\n",
       "      <td>35</td>\n",
       "      <td>428.716114</td>\n",
       "      <td>891.29</td>\n",
       "      <td>44626.85346</td>\n",
       "      <td>134.201478</td>\n",
       "      <td>28.028887</td>\n",
       "      <td>2</td>\n",
       "      <td>8</td>\n",
       "      <td>7</td>\n",
       "      <td>24</td>\n",
       "      <td>10</td>\n",
       "      <td>8</td>\n",
       "      <td>20</td>\n",
       "      <td>Sim</td>\n",
       "      <td>Não</td>\n",
       "      <td>Negar</td>\n",
       "    </tr>\n",
       "  </tbody>\n",
       "</table>\n",
       "</div>"
      ],
      "text/plain": [
       "   id_cliente  idade  saldo_atual  divida_atual  renda_anual  \\\n",
       "0        1767     21   278.172008       2577.05  24196.89636   \n",
       "1       11920     40   268.874152       2465.39  19227.37796   \n",
       "2        8910     36   446.643127       1055.29  42822.28223   \n",
       "3        4964     58   321.141267        703.05  51786.82600   \n",
       "4       10100     35   428.716114        891.29  44626.85346   \n",
       "\n",
       "   valor_em_investimentos  taxa_utilizacao_credito  num_emprestimos  \\\n",
       "0              104.306544                31.038763                6   \n",
       "1               69.858778                36.917093                5   \n",
       "2              134.201478                34.561714                0   \n",
       "3              297.350067                31.493561                0   \n",
       "4              134.201478                28.028887                2   \n",
       "\n",
       "   num_contas_bancarias  num_cartoes_credito  dias_atraso_dt_venc  \\\n",
       "0                     5                    7                   21   \n",
       "1                     8                    5                   40   \n",
       "2                     3                    6                   26   \n",
       "3                     3                    7                   12   \n",
       "4                     8                    7                   24   \n",
       "\n",
       "   num_pgtos_atrasados  num_consultas_credito  taxa_juros investe_exterior  \\\n",
       "0                   14                      9          15              Não   \n",
       "1                   23                     10          18              Não   \n",
       "2                   13                      3          15              Sim   \n",
       "3                    7                      2           1              Sim   \n",
       "4                   10                      8          20              Sim   \n",
       "\n",
       "  pessoa_polit_exp limite_adicional  \n",
       "0              Não            Negar  \n",
       "1              Não            Negar  \n",
       "2              Não            Negar  \n",
       "3              Não            Negar  \n",
       "4              Não            Negar  "
      ]
     },
     "execution_count": 3,
     "metadata": {},
     "output_type": "execute_result"
    }
   ],
   "source": [
    "df.head()"
   ]
  },
  {
   "cell_type": "code",
   "execution_count": 4,
   "id": "eaa579c8",
   "metadata": {
    "ExecuteTime": {
     "end_time": "2023-05-21T14:33:18.546986Z",
     "start_time": "2023-05-21T14:33:18.534783Z"
    },
    "hidden": true
   },
   "outputs": [
    {
     "data": {
      "text/plain": [
       "array(['Negar', 'Conceder'], dtype=object)"
      ]
     },
     "execution_count": 4,
     "metadata": {},
     "output_type": "execute_result"
    }
   ],
   "source": [
    "df.loc[:, 'limite_adicional'].unique()"
   ]
  },
  {
   "cell_type": "code",
   "execution_count": 5,
   "id": "1cac6963",
   "metadata": {
    "ExecuteTime": {
     "end_time": "2023-05-21T14:33:18.563213Z",
     "start_time": "2023-05-21T14:33:18.547670Z"
    },
    "hidden": true
   },
   "outputs": [
    {
     "data": {
      "text/plain": [
       "Index(['id_cliente', 'idade', 'saldo_atual', 'divida_atual', 'renda_anual',\n",
       "       'valor_em_investimentos', 'taxa_utilizacao_credito', 'num_emprestimos',\n",
       "       'num_contas_bancarias', 'num_cartoes_credito', 'dias_atraso_dt_venc',\n",
       "       'num_pgtos_atrasados', 'num_consultas_credito', 'taxa_juros',\n",
       "       'investe_exterior', 'pessoa_polit_exp', 'limite_adicional'],\n",
       "      dtype='object')"
      ]
     },
     "execution_count": 5,
     "metadata": {},
     "output_type": "execute_result"
    }
   ],
   "source": [
    "df.columns"
   ]
  },
  {
   "cell_type": "markdown",
   "id": "fa0cf8c9",
   "metadata": {
    "heading_collapsed": true
   },
   "source": [
    "# 2.0 SELEÇÃO DE FEATURES"
   ]
  },
  {
   "cell_type": "code",
   "execution_count": 6,
   "id": "35b67ec6",
   "metadata": {
    "ExecuteTime": {
     "end_time": "2023-05-21T14:33:18.579119Z",
     "start_time": "2023-05-21T14:33:18.565808Z"
    },
    "hidden": true
   },
   "outputs": [],
   "source": [
    "# x = features_treinamento\n",
    "# y = label\n",
    "\n",
    "features = ['idade', 'saldo_atual', 'divida_atual', 'renda_anual',\n",
    "           'valor_em_investimentos', 'taxa_utilizacao_credito', 'num_emprestimos',\n",
    "           'num_contas_bancarias', 'num_cartoes_credito', 'dias_atraso_dt_venc',\n",
    "           'num_pgtos_atrasados', 'num_consultas_credito', 'taxa_juros']\n",
    "label = 'limite_adicional'\n",
    "\n",
    "x_train = df.loc[:, features]\n",
    "y_train = df.loc[:, label]"
   ]
  },
  {
   "cell_type": "markdown",
   "id": "308c8b55",
   "metadata": {
    "heading_collapsed": true
   },
   "source": [
    "# 3.0 TREINAMENTO"
   ]
  },
  {
   "cell_type": "code",
   "execution_count": 7,
   "id": "b214d700",
   "metadata": {
    "ExecuteTime": {
     "end_time": "2023-05-21T14:33:18.640407Z",
     "start_time": "2023-05-21T14:33:18.580805Z"
    },
    "hidden": true
   },
   "outputs": [
    {
     "data": {
      "text/html": [
       "<style>#sk-container-id-1 {color: black;background-color: white;}#sk-container-id-1 pre{padding: 0;}#sk-container-id-1 div.sk-toggleable {background-color: white;}#sk-container-id-1 label.sk-toggleable__label {cursor: pointer;display: block;width: 100%;margin-bottom: 0;padding: 0.3em;box-sizing: border-box;text-align: center;}#sk-container-id-1 label.sk-toggleable__label-arrow:before {content: \"▸\";float: left;margin-right: 0.25em;color: #696969;}#sk-container-id-1 label.sk-toggleable__label-arrow:hover:before {color: black;}#sk-container-id-1 div.sk-estimator:hover label.sk-toggleable__label-arrow:before {color: black;}#sk-container-id-1 div.sk-toggleable__content {max-height: 0;max-width: 0;overflow: hidden;text-align: left;background-color: #f0f8ff;}#sk-container-id-1 div.sk-toggleable__content pre {margin: 0.2em;color: black;border-radius: 0.25em;background-color: #f0f8ff;}#sk-container-id-1 input.sk-toggleable__control:checked~div.sk-toggleable__content {max-height: 200px;max-width: 100%;overflow: auto;}#sk-container-id-1 input.sk-toggleable__control:checked~label.sk-toggleable__label-arrow:before {content: \"▾\";}#sk-container-id-1 div.sk-estimator input.sk-toggleable__control:checked~label.sk-toggleable__label {background-color: #d4ebff;}#sk-container-id-1 div.sk-label input.sk-toggleable__control:checked~label.sk-toggleable__label {background-color: #d4ebff;}#sk-container-id-1 input.sk-hidden--visually {border: 0;clip: rect(1px 1px 1px 1px);clip: rect(1px, 1px, 1px, 1px);height: 1px;margin: -1px;overflow: hidden;padding: 0;position: absolute;width: 1px;}#sk-container-id-1 div.sk-estimator {font-family: monospace;background-color: #f0f8ff;border: 1px dotted black;border-radius: 0.25em;box-sizing: border-box;margin-bottom: 0.5em;}#sk-container-id-1 div.sk-estimator:hover {background-color: #d4ebff;}#sk-container-id-1 div.sk-parallel-item::after {content: \"\";width: 100%;border-bottom: 1px solid gray;flex-grow: 1;}#sk-container-id-1 div.sk-label:hover label.sk-toggleable__label {background-color: #d4ebff;}#sk-container-id-1 div.sk-serial::before {content: \"\";position: absolute;border-left: 1px solid gray;box-sizing: border-box;top: 0;bottom: 0;left: 50%;z-index: 0;}#sk-container-id-1 div.sk-serial {display: flex;flex-direction: column;align-items: center;background-color: white;padding-right: 0.2em;padding-left: 0.2em;position: relative;}#sk-container-id-1 div.sk-item {position: relative;z-index: 1;}#sk-container-id-1 div.sk-parallel {display: flex;align-items: stretch;justify-content: center;background-color: white;position: relative;}#sk-container-id-1 div.sk-item::before, #sk-container-id-1 div.sk-parallel-item::before {content: \"\";position: absolute;border-left: 1px solid gray;box-sizing: border-box;top: 0;bottom: 0;left: 50%;z-index: -1;}#sk-container-id-1 div.sk-parallel-item {display: flex;flex-direction: column;z-index: 1;position: relative;background-color: white;}#sk-container-id-1 div.sk-parallel-item:first-child::after {align-self: flex-end;width: 50%;}#sk-container-id-1 div.sk-parallel-item:last-child::after {align-self: flex-start;width: 50%;}#sk-container-id-1 div.sk-parallel-item:only-child::after {width: 0;}#sk-container-id-1 div.sk-dashed-wrapped {border: 1px dashed gray;margin: 0 0.4em 0.5em 0.4em;box-sizing: border-box;padding-bottom: 0.4em;background-color: white;}#sk-container-id-1 div.sk-label label {font-family: monospace;font-weight: bold;display: inline-block;line-height: 1.2em;}#sk-container-id-1 div.sk-label-container {text-align: center;}#sk-container-id-1 div.sk-container {/* jupyter's `normalize.less` sets `[hidden] { display: none; }` but bootstrap.min.css set `[hidden] { display: none !important; }` so we also need the `!important` here to be able to override the default hidden behavior on the sphinx rendered scikit-learn.org. See: https://github.com/scikit-learn/scikit-learn/issues/21755 */display: inline-block !important;position: relative;}#sk-container-id-1 div.sk-text-repr-fallback {display: none;}</style><div id=\"sk-container-id-1\" class=\"sk-top-container\"><div class=\"sk-text-repr-fallback\"><pre>KNeighborsClassifier(n_neighbors=7)</pre><b>In a Jupyter environment, please rerun this cell to show the HTML representation or trust the notebook. <br />On GitHub, the HTML representation is unable to render, please try loading this page with nbviewer.org.</b></div><div class=\"sk-container\" hidden><div class=\"sk-item\"><div class=\"sk-estimator sk-toggleable\"><input class=\"sk-toggleable__control sk-hidden--visually\" id=\"sk-estimator-id-1\" type=\"checkbox\" checked><label for=\"sk-estimator-id-1\" class=\"sk-toggleable__label sk-toggleable__label-arrow\">KNeighborsClassifier</label><div class=\"sk-toggleable__content\"><pre>KNeighborsClassifier(n_neighbors=7)</pre></div></div></div></div></div>"
      ],
      "text/plain": [
       "KNeighborsClassifier(n_neighbors=7)"
      ]
     },
     "execution_count": 7,
     "metadata": {},
     "output_type": "execute_result"
    }
   ],
   "source": [
    "#definção de parametros do treinamento\n",
    "\n",
    "k = 7 #número de vizinhos - aleatório\n",
    "knn_classifier = KNeighborsClassifier(n_neighbors = k)\n",
    "\n",
    "#treinamento do algoritmo\n",
    "knn_classifier.fit(x_train, y_train)"
   ]
  },
  {
   "cell_type": "code",
   "execution_count": 8,
   "id": "92509aa2",
   "metadata": {
    "ExecuteTime": {
     "end_time": "2023-05-21T14:33:19.013885Z",
     "start_time": "2023-05-21T14:33:18.641433Z"
    },
    "hidden": true
   },
   "outputs": [],
   "source": [
    "y_pred = knn_classifier.predict(x_train)"
   ]
  },
  {
   "cell_type": "code",
   "execution_count": 9,
   "id": "928a9b97",
   "metadata": {
    "ExecuteTime": {
     "end_time": "2023-05-21T14:33:19.029235Z",
     "start_time": "2023-05-21T14:33:19.015532Z"
    },
    "hidden": true
   },
   "outputs": [],
   "source": [
    "df_result = df.copy()"
   ]
  },
  {
   "cell_type": "code",
   "execution_count": 10,
   "id": "a237a215",
   "metadata": {
    "ExecuteTime": {
     "end_time": "2023-05-21T14:33:19.059712Z",
     "start_time": "2023-05-21T14:33:19.042250Z"
    },
    "hidden": true
   },
   "outputs": [],
   "source": [
    "df_result['classificacao'] = y_pred"
   ]
  },
  {
   "cell_type": "code",
   "execution_count": 11,
   "id": "a5785f91",
   "metadata": {
    "ExecuteTime": {
     "end_time": "2023-05-21T14:33:19.090638Z",
     "start_time": "2023-05-21T14:33:19.062245Z"
    },
    "hidden": true
   },
   "outputs": [
    {
     "data": {
      "text/html": [
       "<div>\n",
       "<style scoped>\n",
       "    .dataframe tbody tr th:only-of-type {\n",
       "        vertical-align: middle;\n",
       "    }\n",
       "\n",
       "    .dataframe tbody tr th {\n",
       "        vertical-align: top;\n",
       "    }\n",
       "\n",
       "    .dataframe thead th {\n",
       "        text-align: right;\n",
       "    }\n",
       "</style>\n",
       "<table border=\"1\" class=\"dataframe\">\n",
       "  <thead>\n",
       "    <tr style=\"text-align: right;\">\n",
       "      <th></th>\n",
       "      <th>id_cliente</th>\n",
       "      <th>idade</th>\n",
       "      <th>limite_adicional</th>\n",
       "      <th>classificacao</th>\n",
       "    </tr>\n",
       "  </thead>\n",
       "  <tbody>\n",
       "    <tr>\n",
       "      <th>3260</th>\n",
       "      <td>6189</td>\n",
       "      <td>42</td>\n",
       "      <td>Negar</td>\n",
       "      <td>Negar</td>\n",
       "    </tr>\n",
       "    <tr>\n",
       "      <th>3917</th>\n",
       "      <td>5864</td>\n",
       "      <td>34</td>\n",
       "      <td>Negar</td>\n",
       "      <td>Negar</td>\n",
       "    </tr>\n",
       "    <tr>\n",
       "      <th>3081</th>\n",
       "      <td>10237</td>\n",
       "      <td>46</td>\n",
       "      <td>Negar</td>\n",
       "      <td>Negar</td>\n",
       "    </tr>\n",
       "    <tr>\n",
       "      <th>6863</th>\n",
       "      <td>10947</td>\n",
       "      <td>47</td>\n",
       "      <td>Negar</td>\n",
       "      <td>Negar</td>\n",
       "    </tr>\n",
       "    <tr>\n",
       "      <th>5214</th>\n",
       "      <td>2868</td>\n",
       "      <td>30</td>\n",
       "      <td>Negar</td>\n",
       "      <td>Negar</td>\n",
       "    </tr>\n",
       "    <tr>\n",
       "      <th>2024</th>\n",
       "      <td>9064</td>\n",
       "      <td>45</td>\n",
       "      <td>Negar</td>\n",
       "      <td>Negar</td>\n",
       "    </tr>\n",
       "    <tr>\n",
       "      <th>1446</th>\n",
       "      <td>8614</td>\n",
       "      <td>18</td>\n",
       "      <td>Negar</td>\n",
       "      <td>Negar</td>\n",
       "    </tr>\n",
       "    <tr>\n",
       "      <th>9091</th>\n",
       "      <td>6556</td>\n",
       "      <td>48</td>\n",
       "      <td>Negar</td>\n",
       "      <td>Negar</td>\n",
       "    </tr>\n",
       "    <tr>\n",
       "      <th>7015</th>\n",
       "      <td>554</td>\n",
       "      <td>61</td>\n",
       "      <td>Negar</td>\n",
       "      <td>Negar</td>\n",
       "    </tr>\n",
       "    <tr>\n",
       "      <th>4443</th>\n",
       "      <td>11319</td>\n",
       "      <td>35</td>\n",
       "      <td>Negar</td>\n",
       "      <td>Negar</td>\n",
       "    </tr>\n",
       "  </tbody>\n",
       "</table>\n",
       "</div>"
      ],
      "text/plain": [
       "      id_cliente  idade limite_adicional classificacao\n",
       "3260        6189     42            Negar         Negar\n",
       "3917        5864     34            Negar         Negar\n",
       "3081       10237     46            Negar         Negar\n",
       "6863       10947     47            Negar         Negar\n",
       "5214        2868     30            Negar         Negar\n",
       "2024        9064     45            Negar         Negar\n",
       "1446        8614     18            Negar         Negar\n",
       "9091        6556     48            Negar         Negar\n",
       "7015         554     61            Negar         Negar\n",
       "4443       11319     35            Negar         Negar"
      ]
     },
     "execution_count": 11,
     "metadata": {},
     "output_type": "execute_result"
    }
   ],
   "source": [
    "df_result.loc[:, ['id_cliente', 'idade', 'limite_adicional', 'classificacao']].sample(10)"
   ]
  },
  {
   "cell_type": "markdown",
   "id": "e2ee0ebc",
   "metadata": {
    "heading_collapsed": true
   },
   "source": [
    "# 4.0 PERFORMANCE"
   ]
  },
  {
   "cell_type": "code",
   "execution_count": 12,
   "id": "6b15ae16",
   "metadata": {
    "ExecuteTime": {
     "end_time": "2023-05-21T14:33:19.105958Z",
     "start_time": "2023-05-21T14:33:19.092519Z"
    },
    "hidden": true
   },
   "outputs": [
    {
     "data": {
      "text/plain": [
       "Negar       0.841579\n",
       "Conceder    0.158421\n",
       "Name: limite_adicional, dtype: float64"
      ]
     },
     "execution_count": 12,
     "metadata": {},
     "output_type": "execute_result"
    }
   ],
   "source": [
    "df.loc[:, 'limite_adicional'].value_counts(normalize=True)"
   ]
  },
  {
   "cell_type": "markdown",
   "id": "e67a84e5",
   "metadata": {
    "heading_collapsed": true,
    "hidden": true
   },
   "source": [
    "## 4.1 Acurácia Manual"
   ]
  },
  {
   "cell_type": "code",
   "execution_count": 13,
   "id": "3318d2b7",
   "metadata": {
    "ExecuteTime": {
     "end_time": "2023-05-21T14:33:19.231699Z",
     "start_time": "2023-05-21T14:33:19.113949Z"
    },
    "hidden": true
   },
   "outputs": [],
   "source": [
    "df_result['acertos'] = (df_result.loc[:, ['id_cliente', 'limite_adicional', 'classificacao']]\n",
    "                        .apply( lambda x: 1 if x['limite_adicional'] == x['classificacao'] else 0, axis=1))"
   ]
  },
  {
   "cell_type": "code",
   "execution_count": 14,
   "id": "7f49f668",
   "metadata": {
    "ExecuteTime": {
     "end_time": "2023-05-21T14:33:19.246852Z",
     "start_time": "2023-05-21T14:33:19.233336Z"
    },
    "hidden": true
   },
   "outputs": [
    {
     "name": "stdout",
     "output_type": "stream",
     "text": [
      "Acurácia: 0.8590526315789474%\n"
     ]
    }
   ],
   "source": [
    "acuracia = df_result['acertos'].value_counts(normalize=True)\n",
    "# 0 - errou\n",
    "# 1 - acertou\n",
    "\n",
    "print ('Acurácia: {}%'.format(acuracia[1]))"
   ]
  },
  {
   "cell_type": "markdown",
   "id": "3eee181a",
   "metadata": {
    "heading_collapsed": true,
    "hidden": true
   },
   "source": [
    "## 4.2 Matriz de Confusão"
   ]
  },
  {
   "cell_type": "code",
   "execution_count": 15,
   "id": "6c436c6a",
   "metadata": {
    "ExecuteTime": {
     "end_time": "2023-05-21T14:33:19.293453Z",
     "start_time": "2023-05-21T14:33:19.248295Z"
    },
    "hidden": true
   },
   "outputs": [
    {
     "data": {
      "text/plain": [
       "array([[ 369, 1136],\n",
       "       [ 203, 7792]], dtype=int64)"
      ]
     },
     "execution_count": 15,
     "metadata": {},
     "output_type": "execute_result"
    }
   ],
   "source": [
    "mt.confusion_matrix (y_train, y_pred)"
   ]
  },
  {
   "cell_type": "markdown",
   "id": "09d26cea",
   "metadata": {
    "heading_collapsed": true,
    "hidden": true
   },
   "source": [
    "## 4.3 Acurácia Sklearn"
   ]
  },
  {
   "cell_type": "code",
   "execution_count": 16,
   "id": "ab4b3c44",
   "metadata": {
    "ExecuteTime": {
     "end_time": "2023-05-21T14:33:19.324899Z",
     "start_time": "2023-05-21T14:33:19.295067Z"
    },
    "hidden": true
   },
   "outputs": [
    {
     "data": {
      "text/plain": [
       "0.8590526315789474"
      ]
     },
     "execution_count": 16,
     "metadata": {},
     "output_type": "execute_result"
    }
   ],
   "source": [
    "mt.accuracy_score(y_train, y_pred)"
   ]
  },
  {
   "cell_type": "markdown",
   "id": "04f10966",
   "metadata": {
    "heading_collapsed": true,
    "hidden": true
   },
   "source": [
    "## 4.4 Precision"
   ]
  },
  {
   "cell_type": "code",
   "execution_count": 17,
   "id": "d54ab2e8",
   "metadata": {
    "ExecuteTime": {
     "end_time": "2023-05-21T14:33:19.402411Z",
     "start_time": "2023-05-21T14:33:19.326560Z"
    },
    "hidden": true
   },
   "outputs": [
    {
     "data": {
      "text/plain": [
       "0.6451048951048951"
      ]
     },
     "execution_count": 17,
     "metadata": {},
     "output_type": "execute_result"
    }
   ],
   "source": [
    "mt.precision_score(y_train, y_pred, pos_label='Conceder')"
   ]
  },
  {
   "cell_type": "markdown",
   "id": "f258a94b",
   "metadata": {
    "heading_collapsed": true,
    "hidden": true
   },
   "source": [
    "## 4.5 Recall"
   ]
  },
  {
   "cell_type": "code",
   "execution_count": 18,
   "id": "8ef55c8e",
   "metadata": {
    "ExecuteTime": {
     "end_time": "2023-05-21T14:33:19.479794Z",
     "start_time": "2023-05-21T14:33:19.404400Z"
    },
    "hidden": true
   },
   "outputs": [
    {
     "data": {
      "text/plain": [
       "0.24518272425249169"
      ]
     },
     "execution_count": 18,
     "metadata": {},
     "output_type": "execute_result"
    }
   ],
   "source": [
    "mt.recall_score(y_train, y_pred, pos_label='Conceder')"
   ]
  },
  {
   "cell_type": "markdown",
   "id": "06710a70",
   "metadata": {},
   "source": [
    "# 5.0 EXERCICIOS"
   ]
  },
  {
   "cell_type": "code",
   "execution_count": 42,
   "id": "e0fbae7d",
   "metadata": {
    "ExecuteTime": {
     "end_time": "2023-05-21T14:42:33.174459Z",
     "start_time": "2023-05-21T14:42:33.160546Z"
    }
   },
   "outputs": [],
   "source": [
    "def metricas (df, qtd_k):\n",
    "    x_train = df.loc[:, features]\n",
    "    y_train = df.loc[:, label]\n",
    "    \n",
    "    knn_classifier = KNeighborsClassifier(n_neighbors=qtd_k)\n",
    "    knn_classifier.fit(x_train, y_train)\n",
    "\n",
    "    y_pred = knn_classifier.predict(x_train)\n",
    "        \n",
    "    matriz_confusao = mt.confusion_matrix (y_train, y_pred)\n",
    "    acuracia = mt.accuracy_score(y_train, y_pred)\n",
    "    precisao = mt.precision_score(y_train, y_pred, pos_label='Conceder')\n",
    "    recall = mt.recall_score(y_train, y_pred, pos_label='Conceder')\n",
    "    return matriz_confusao, acuracia, precisao, recall\n",
    "    \n",
    "def desbalancear (df, valor):\n",
    "    df_aux = df.copy()\n",
    "\n",
    "    # Determinando o número total de linhas\n",
    "    total_linhas = df_aux.shape[0]\n",
    "\n",
    "    # Calculando o número de linhas para \"Conceder\" e \"Negar\"\n",
    "    linhas_conceder = int(valor * total_linhas)\n",
    "    linhas_negar = total_linhas - linhas_conceder\n",
    "\n",
    "\n",
    "    df_aux['limite_adicional'] = 'Conceder'\n",
    "    deny_indices = random.sample(range(total_linhas), linhas_negar)\n",
    "    df_aux.loc[deny_indices, 'limite_adicional'] = 'Negar'\n",
    "    \n",
    "    return df_aux"
   ]
  },
  {
   "cell_type": "markdown",
   "id": "92cc0f38",
   "metadata": {
    "heading_collapsed": true
   },
   "source": [
    "## 1.0  Retreino o algoritmo com os seguintes valores para K: [3, 5, 7, 9, 11, 13, 15, 17, 19 e 21] e anote a acurácia"
   ]
  },
  {
   "cell_type": "code",
   "execution_count": 20,
   "id": "036e7c82",
   "metadata": {
    "ExecuteTime": {
     "end_time": "2023-05-21T14:33:23.644985Z",
     "start_time": "2023-05-21T14:33:19.497259Z"
    },
    "hidden": true
   },
   "outputs": [
    {
     "name": "stdout",
     "output_type": "stream",
     "text": [
      "Com o valor de k em 3, a acurácia foi de 0.8854736842105263\n",
      "Com o valor de k em 5, a acurácia foi de 0.8667368421052631\n",
      "Com o valor de k em 7, a acurácia foi de 0.8590526315789474\n",
      "Com o valor de k em 9, a acurácia foi de 0.8528421052631578\n",
      "Com o valor de k em 11, a acurácia foi de 0.85\n",
      "Com o valor de k em 13, a acurácia foi de 0.8492631578947368\n",
      "Com o valor de k em 15, a acurácia foi de 0.848\n",
      "Com o valor de k em 17, a acurácia foi de 0.8478947368421053\n",
      "Com o valor de k em 19, a acurácia foi de 0.8478947368421053\n",
      "Com o valor de k em 21, a acurácia foi de 0.8462105263157895\n"
     ]
    }
   ],
   "source": [
    "range_k = [3, 5, 7, 9, 11, 13, 15, 17, 19, 21]\n",
    "\n",
    "for i in range_k:\n",
    "    knn_classifier = KNeighborsClassifier(n_neighbors=i)\n",
    "    knn_classifier.fit(x_train, y_train)\n",
    "\n",
    "    y_pred = knn_classifier.predict(x_train)\n",
    "\n",
    "    acuracia = mt.accuracy_score(y_train, y_pred)\n",
    "    print ('Com o valor de k em {}, a acurácia foi de {}'.format(i, acuracia))\n"
   ]
  },
  {
   "cell_type": "markdown",
   "id": "5b651c53",
   "metadata": {
    "heading_collapsed": true
   },
   "source": [
    "## 2.0 Qual o problema principal de usar a métrica acurácia? Escreve um exemplo hipotético, no qual o problema acontece.\n"
   ]
  },
  {
   "cell_type": "markdown",
   "id": "d0a8e5f6",
   "metadata": {
    "hidden": true
   },
   "source": [
    "Em dado desbalanceados pois vai dar que a performace do algoritmo é boa, mas na realidade não é. O resultado vai ser em base da classe marjoritária.\n",
    "\n",
    "Exemplo: se uma população tem 10% de pessoas com doença, usarmos um algoritmo para classificar a população que não está doente (90% acurácia) e o modelo errar a classificação deles, teremos uma falsa sensação de que o modelo performou bem."
   ]
  },
  {
   "cell_type": "markdown",
   "id": "3c74ad1d",
   "metadata": {
    "heading_collapsed": true
   },
   "source": [
    "## 3.0 Explique com um pequeno texto ilustrando a diferença entre a métrica de Precision e Recall e mostrando quando usada deve ser escolhida em relação a outra"
   ]
  },
  {
   "cell_type": "markdown",
   "id": "12260358",
   "metadata": {
    "hidden": true
   },
   "source": [
    "Precision é quando precisamos saber que de todas as classificações que foram feitas estão certas. Eram 50 situações ( 25 situações boas ) > classificou 30 > 20 boas > teve acerto 20/30 .\n",
    "\n",
    "Recall é quanto de todas as situações ele acertou. Era 50 situações ( 25 situações boas ) > classificou 30 > 20 boas > teve acerto 20/25"
   ]
  },
  {
   "cell_type": "markdown",
   "id": "40acbd00",
   "metadata": {},
   "source": [
    "## 4.0 Escreve um trecho de código que automatize o treinamento do algoritmo K-NN, a fim de encontrar o melhor valor para K, do exercício 1."
   ]
  },
  {
   "cell_type": "code",
   "execution_count": 21,
   "id": "1a5facda",
   "metadata": {
    "ExecuteTime": {
     "end_time": "2023-05-21T14:33:27.356505Z",
     "start_time": "2023-05-21T14:33:23.646683Z"
    }
   },
   "outputs": [
    {
     "data": {
      "image/png": "[encoded data removed]",
      "text/plain": [
       "<Figure size 640x480 with 1 Axes>"
      ]
     },
     "metadata": {},
     "output_type": "display_data"
    }
   ],
   "source": [
    "def valor_acuracia(qtd_k):\n",
    "    knn_classifier = KNeighborsClassifier(n_neighbors=qtd_k)\n",
    "    knn_classifier.fit(x_train, y_train)\n",
    "\n",
    "    y_pred = knn_classifier.predict(x_train)\n",
    "\n",
    "    return mt.accuracy_score(y_train, y_pred)\n",
    "\n",
    "df_aux = pd.DataFrame(columns=['k', 'acuracia'])\n",
    "\n",
    "for i in range(1, 10):\n",
    "    df_aux.loc[len(df_aux)] = [i, valor_acuracia(i)]\n",
    "\n",
    "df_aux['K'] = df_aux['k'].astype(int)\n",
    "\n",
    "df_aux.plot ('k', 'acuracia')\n",
    "\n",
    "plt.show()"
   ]
  },
  {
   "cell_type": "markdown",
   "id": "0dbb09f4",
   "metadata": {
    "heading_collapsed": true
   },
   "source": [
    "## 5.0 Escreva um pequeno texto, explicando as 6 denominações da matriz de confusão: P, N, TP, FN, FP e TN"
   ]
  },
  {
   "cell_type": "markdown",
   "id": "bda3a0ce",
   "metadata": {
    "hidden": true
   },
   "source": [
    "P - classe positivas\n",
    "\n",
    "N - classe negativa\n",
    "\n",
    "TP - classe positiva acertada (era positiva e classificou como positiva)\n",
    "\n",
    "FN - classe positiva errada (era positiva e classificou como negativa)\n",
    "\n",
    "FP - classe negativa errada ( era negativa e classificou como positiva)\n",
    "\n",
    "TN - classe negativa acertada (era negativa e classificou como negativa)"
   ]
  },
  {
   "cell_type": "markdown",
   "id": "1b9b3adf",
   "metadata": {
    "heading_collapsed": true
   },
   "source": [
    "## 6.0 No conjunto de dados usado na aula 12: “K-Nearest Neighbors - Prática”, existe alguma variável que fere as premissas do K-NN? Se sim ou não, explique."
   ]
  },
  {
   "cell_type": "markdown",
   "id": "7f2d26f3",
   "metadata": {
    "hidden": true
   },
   "source": [
    "Todas as variáveis categóricas ferem as premissas do K-NN, pois para o modelo conseguir comparar a similaridade os valores precisam ser numéricos."
   ]
  },
  {
   "cell_type": "markdown",
   "id": "0d0ec258",
   "metadata": {},
   "source": [
    "## 7.0 Faça a seguinte bateria de testes\n",
    "\n"
   ]
  },
  {
   "cell_type": "markdown",
   "id": "47ef4e73",
   "metadata": {
    "heading_collapsed": true
   },
   "source": [
    "### 7.1 Class balanceada originalmente \n",
    "#### 1 Faça a matriz de confusão, calcule a acurácia, recall e precision do conjunto de dados original\n",
    "#### 2 Anote os resultados"
   ]
  },
  {
   "cell_type": "code",
   "execution_count": 43,
   "id": "9c28c46c",
   "metadata": {
    "ExecuteTime": {
     "end_time": "2023-05-21T14:42:36.042579Z",
     "start_time": "2023-05-21T14:42:35.471354Z"
    },
    "hidden": true
   },
   "outputs": [],
   "source": [
    "df_original = ()\n",
    "df_original = metricas(df, 7)"
   ]
  },
  {
   "cell_type": "code",
   "execution_count": 44,
   "id": "c3f59176",
   "metadata": {
    "ExecuteTime": {
     "end_time": "2023-05-21T14:42:37.258178Z",
     "start_time": "2023-05-21T14:42:37.239493Z"
    },
    "hidden": true
   },
   "outputs": [
    {
     "data": {
      "text/plain": [
       "(array([[ 369, 1136],\n",
       "        [ 203, 7792]], dtype=int64),\n",
       " 0.8590526315789474,\n",
       " 0.6451048951048951,\n",
       " 0.24518272425249169)"
      ]
     },
     "execution_count": 44,
     "metadata": {},
     "output_type": "execute_result"
    }
   ],
   "source": [
    "df_original"
   ]
  },
  {
   "cell_type": "markdown",
   "id": "7af15e35",
   "metadata": {
    "heading_collapsed": true
   },
   "source": [
    "### 7.2 Classe balanceada\n",
    "#### 1. Mantenha a proporção de 50% das linhas da planilha de dados com exemplos da classe “Conceder” e 50% com a classe “Negar”.\n",
    "#### 2. Faça a matriz de confusão, calcule a acurácia, recall e precision.\n",
    "#### Anote o resultado"
   ]
  },
  {
   "cell_type": "code",
   "execution_count": 46,
   "id": "6a3fbe66",
   "metadata": {
    "ExecuteTime": {
     "end_time": "2023-05-21T14:42:50.396166Z",
     "start_time": "2023-05-21T14:42:50.375305Z"
    },
    "hidden": true
   },
   "outputs": [
    {
     "data": {
      "text/plain": [
       "Conceder    0.5\n",
       "Negar       0.5\n",
       "Name: limite_adicional, dtype: float64"
      ]
     },
     "execution_count": 46,
     "metadata": {},
     "output_type": "execute_result"
    }
   ],
   "source": [
    "df_50 = desbalancear(df, 0.5)\n",
    "df_50.loc[:, 'limite_adicional'].value_counts(normalize=True)"
   ]
  },
  {
   "cell_type": "code",
   "execution_count": 47,
   "id": "2309ad23",
   "metadata": {
    "ExecuteTime": {
     "end_time": "2023-05-21T14:42:52.432127Z",
     "start_time": "2023-05-21T14:42:51.855501Z"
    },
    "hidden": true
   },
   "outputs": [
    {
     "data": {
      "text/plain": [
       "(array([[3106, 1644],\n",
       "        [1623, 3127]], dtype=int64),\n",
       " 0.6561052631578947,\n",
       " 0.6567984774793826,\n",
       " 0.6538947368421053)"
      ]
     },
     "execution_count": 47,
     "metadata": {},
     "output_type": "execute_result"
    }
   ],
   "source": [
    "metricas_50 = metricas(df_50, 7)\n",
    "metricas_50"
   ]
  },
  {
   "cell_type": "markdown",
   "id": "b2c0bd98",
   "metadata": {
    "heading_collapsed": true
   },
   "source": [
    "### 7.3 Classe desbalanceada 90/10\n",
    "#### 1. Mantenha a proporção de 90% das linhas da planilha de dados com exemplos da classe “Conceder” e 10% com a classe “Negar”.\n",
    "#### 2. Faça a matriz de confusão, calcule a acurácia, recall e precision.\n",
    "#### 3. Anote os resultados."
   ]
  },
  {
   "cell_type": "code",
   "execution_count": 35,
   "id": "64aa2b39",
   "metadata": {
    "ExecuteTime": {
     "end_time": "2023-05-21T14:37:17.935186Z",
     "start_time": "2023-05-21T14:37:17.911158Z"
    },
    "hidden": true
   },
   "outputs": [
    {
     "data": {
      "text/plain": [
       "Conceder    0.9\n",
       "Negar       0.1\n",
       "Name: limite_adicional, dtype: float64"
      ]
     },
     "execution_count": 35,
     "metadata": {},
     "output_type": "execute_result"
    }
   ],
   "source": [
    "df_90 = desbalancear(df, 0.9)\n",
    "df_90.loc[:, 'limite_adicional'].value_counts(normalize=True)"
   ]
  },
  {
   "cell_type": "code",
   "execution_count": 36,
   "id": "3580cdf0",
   "metadata": {
    "ExecuteTime": {
     "end_time": "2023-05-21T14:37:18.574418Z",
     "start_time": "2023-05-21T14:37:17.938180Z"
    },
    "hidden": true
   },
   "outputs": [
    {
     "data": {
      "text/plain": [
       "(array([[8464,   86],\n",
       "        [ 788,  162]], dtype=int64),\n",
       " 0.908,\n",
       " 0.9148292261132728,\n",
       " 0.9899415204678362)"
      ]
     },
     "execution_count": 36,
     "metadata": {},
     "output_type": "execute_result"
    }
   ],
   "source": [
    "metricas_90 = metricas(df_90)\n",
    "metricas_90"
   ]
  },
  {
   "cell_type": "markdown",
   "id": "d11a9ccb",
   "metadata": {
    "heading_collapsed": true
   },
   "source": [
    "### 7.4  Refaça o exercícios 7.3 com as seguintes variações: 80/20, 70/30 e 60/40"
   ]
  },
  {
   "cell_type": "code",
   "execution_count": 39,
   "id": "aad07a18",
   "metadata": {
    "ExecuteTime": {
     "end_time": "2023-05-21T14:41:20.982337Z",
     "start_time": "2023-05-21T14:41:19.319344Z"
    },
    "hidden": true
   },
   "outputs": [],
   "source": [
    "#80/20\n",
    "df_80 = desbalancear(df, 0.8)\n",
    "metricas_80 = metricas(df_80, 7)\n",
    "\n",
    "#70/30\n",
    "df_70 = desbalancear(df, 0.7)\n",
    "metricas_70 = metricas(df_70, 7)\n",
    "\n",
    "#60/40\n",
    "df_60 = desbalancear(df, 0.6)\n",
    "metricas_60 = metricas(df_60, 7)\n",
    "    "
   ]
  },
  {
   "cell_type": "markdown",
   "id": "e49623a9",
   "metadata": {},
   "source": [
    "###  7.5 Crie um tabela de comparação entre os resultados das 3 métricas (acurácia, recall e precision ) para cada uma das proporções ( 50/50, 90/10, 80/20, 70/30, 60/40 ) e responda as seguintes perguntas:"
   ]
  },
  {
   "cell_type": "code",
   "execution_count": 38,
   "id": "14f5202e",
   "metadata": {
    "ExecuteTime": {
     "end_time": "2023-05-21T14:37:20.458691Z",
     "start_time": "2023-05-21T14:37:20.444970Z"
    }
   },
   "outputs": [
    {
     "name": "stdout",
     "output_type": "stream",
     "text": [
      "╒════════════╤════════════╤══════════╤══════════╤══════════╤══════════╤══════════╕\n",
      "│ Métricas   │   Original │    50/50 │    60/40 │    70/30 │    80/20 │    90/10 │\n",
      "╞════════════╪════════════╪══════════╪══════════╪══════════╪══════════╪══════════╡\n",
      "│ Acurácia   │   0.885474 │ 0.757684 │ 0.760737 │ 0.795263 │ 0.838947 │ 0.908    │\n",
      "├────────────┼────────────┼──────────┼──────────┼──────────┼──────────┼──────────┤\n",
      "│ Precision  │   0.70997  │ 0.759542 │ 0.780672 │ 0.818465 │ 0.857479 │ 0.914829 │\n",
      "├────────────┼────────────┼──────────┼──────────┼──────────┼──────────┼──────────┤\n",
      "│ Recall     │   0.468439 │ 0.754105 │ 0.83614  │ 0.909173 │ 0.957895 │ 0.989942 │\n",
      "╘════════════╧════════════╧══════════╧══════════╧══════════╧══════════╧══════════╛\n"
     ]
    }
   ],
   "source": [
    "from tabulate import tabulate\n",
    "\n",
    "data = {\n",
    "    'Métricas': ['Acurácia', 'Precision', 'Recall'],\n",
    "    'Original': df_original[1:],\n",
    "    '50/50': metricas_50[1:],\n",
    "    '60/40': metricas_60[1:],\n",
    "    '70/30': metricas_70[1:],\n",
    "    '80/20': metricas_80[1:],\n",
    "    '90/10': metricas_90[1:],\n",
    "}\n",
    "\n",
    "table = tabulate(data, headers='keys', tablefmt='fancy_grid')\n",
    "\n",
    "print(table)"
   ]
  },
  {
   "cell_type": "markdown",
   "id": "1c3558d1",
   "metadata": {},
   "source": [
    "#### 1. Como a métrica da acurácia se comporta com a variação do desbalanceamento do conjunto de dados?\n",
    "A acurácia tende a aumentar conforme a classe marjoritária fica maior, pois se classe minoritária for rara, o modelo simplesmente preve a classe marjoritária para todos os exemplos. Mas não quer dizer que o modelo está perfomando bem.\n",
    "#### 2. O que acontece com a métrica “Precison” e “Recall” a medida que os conjunto de dados tendem ao balanceamento de 50/50?\n",
    "Quando os dados estão balanceado, o modelo tem uma chance igual para aprender e conseguir distinguir corretamente as classes. Então se o os dados estão 50/50, tanto a métrica de Recall e Precision tem potencial de melhorar.\n",
    "#### 3. Observando as respostas anteriores, quais são as ações que aumentam ou diminuem a métrica de “Precision” ou “Recall” de um problema de negócio?\n",
    "O desbalanceamento pode afetar muito Precision e Recall para classe minoritária. Podemos ajustar o Hiperparametro"
   ]
  },
  {
   "cell_type": "code",
   "execution_count": 55,
   "id": "b9d3abb0",
   "metadata": {
    "ExecuteTime": {
     "end_time": "2023-05-21T14:45:37.161060Z",
     "start_time": "2023-05-21T14:45:37.144129Z"
    }
   },
   "outputs": [],
   "source": [
    "def tabela_comparacao(df, qtd_k):\n",
    "    #original\n",
    "    df_original = ()\n",
    "    df_original = metricas(df, qtd_k)\n",
    "\n",
    "    #50/50\n",
    "    df_50 = desbalancear(df, 0.5)\n",
    "    metricas_50 = metricas(df_50, qtd_k)\n",
    "\n",
    "    #90/10\n",
    "    df_90 = desbalancear(df, 0.1)\n",
    "    metricas_90 = metricas(df_90, qtd_k)\n",
    "\n",
    "    #80/20\n",
    "    df_80 = desbalancear(df, 0.8)\n",
    "    metricas_80 = metricas(df_80, qtd_k)\n",
    "\n",
    "    #70/30\n",
    "    df_70 = desbalancear(df, 0.7)\n",
    "    metricas_70 = metricas(df_70, qtd_k)\n",
    "\n",
    "    #60/40\n",
    "    df_60 = desbalancear(df, 0.6)\n",
    "    metricas_60 = metricas(df_60, qtd_k)\n",
    "    \n",
    "    data = {\n",
    "    'Métricas': ['Acurácia', 'Precision', 'Recall'],\n",
    "    'Original': df_original[1:],\n",
    "    '50/50': metricas_50[1:],\n",
    "    '60/40': metricas_60[1:],\n",
    "    '70/30': metricas_70[1:],\n",
    "    '80/20': metricas_80[1:],\n",
    "    '90/10': metricas_90[1:],\n",
    "    }\n",
    "\n",
    "    table = tabulate(data, headers='keys', tablefmt='fancy_grid')\n",
    "\n",
    "    return table\n",
    "    "
   ]
  },
  {
   "cell_type": "code",
   "execution_count": 57,
   "id": "d5ae3bb6",
   "metadata": {
    "ExecuteTime": {
     "end_time": "2023-05-21T14:45:46.460906Z",
     "start_time": "2023-05-21T14:45:42.709655Z"
    }
   },
   "outputs": [
    {
     "name": "stdout",
     "output_type": "stream",
     "text": [
      "╒════════════╤════════════╤══════════╤══════════╤══════════╤══════════╤══════════╕\n",
      "│ Métricas   │   Original │    50/50 │    60/40 │    70/30 │    80/20 │    90/10 │\n",
      "╞════════════╪════════════╪══════════╪══════════╪══════════╪══════════╪══════════╡\n",
      "│ Acurácia   │   0.886526 │ 0.755263 │ 0.758316 │ 0.791263 │ 0.843368 │ 0.912421 │\n",
      "├────────────┼────────────┼──────────┼──────────┼──────────┼──────────┼──────────┤\n",
      "│ Precision  │   0.582656 │ 0.671378 │ 0.712856 │ 0.7703   │ 0.836268 │ 0.533109 │\n",
      "├────────────┼────────────┼──────────┼──────────┼──────────┼──────────┼──────────┤\n",
      "│ Recall     │   1        │ 1        │ 1        │ 1        │ 1        │ 1        │\n",
      "╘════════════╧════════════╧══════════╧══════════╧══════════╧══════════╧══════════╛\n"
     ]
    }
   ],
   "source": [
    "vizinhos_2 = tabela_comparacao(df, 2)\n",
    "print(vizinhos_2)"
   ]
  },
  {
   "cell_type": "code",
   "execution_count": 58,
   "id": "4d8fd9b6",
   "metadata": {
    "ExecuteTime": {
     "end_time": "2023-05-21T14:46:08.255585Z",
     "start_time": "2023-05-21T14:46:04.824472Z"
    }
   },
   "outputs": [
    {
     "name": "stdout",
     "output_type": "stream",
     "text": [
      "╒════════════╤════════════╤══════════╤══════════╤══════════╤══════════╤══════════╕\n",
      "│ Métricas   │   Original │    50/50 │    60/40 │    70/30 │    80/20 │    90/10 │\n",
      "╞════════════╪════════════╪══════════╪══════════╪══════════╪══════════╪══════════╡\n",
      "│ Acurácia   │   0.885474 │ 0.752105 │ 0.764105 │ 0.795789 │ 0.842211 │ 0.907263 │\n",
      "├────────────┼────────────┼──────────┼──────────┼──────────┼──────────┼──────────┤\n",
      "│ Precision  │   0.70997  │ 0.750996 │ 0.781082 │ 0.818674 │ 0.860281 │ 0.633205 │\n",
      "├────────────┼────────────┼──────────┼──────────┼──────────┼──────────┼──────────┤\n",
      "│ Recall     │   0.468439 │ 0.754316 │ 0.843158 │ 0.909774 │ 0.958421 │ 0.172632 │\n",
      "╘════════════╧════════════╧══════════╧══════════╧══════════╧══════════╧══════════╛\n"
     ]
    }
   ],
   "source": [
    "vizinhos_3 = tabela_comparacao(df, 3)\n",
    "print(vizinhos_3)"
   ]
  },
  {
   "cell_type": "code",
   "execution_count": 59,
   "id": "a3201a67",
   "metadata": {
    "ExecuteTime": {
     "end_time": "2023-05-21T14:47:55.309886Z",
     "start_time": "2023-05-21T14:47:52.301414Z"
    }
   },
   "outputs": [
    {
     "name": "stdout",
     "output_type": "stream",
     "text": [
      "╒════════════╤════════════╤═════════╤═════════╤═════════╤═════════╤═════════╕\n",
      "│ Métricas   │   Original │   50/50 │   60/40 │   70/30 │   80/20 │   90/10 │\n",
      "╞════════════╪════════════╪═════════╪═════════╪═════════╪═════════╪═════════╡\n",
      "│ Acurácia   │          1 │       1 │       1 │       1 │       1 │       1 │\n",
      "├────────────┼────────────┼─────────┼─────────┼─────────┼─────────┼─────────┤\n",
      "│ Precision  │          1 │       1 │       1 │       1 │       1 │       1 │\n",
      "├────────────┼────────────┼─────────┼─────────┼─────────┼─────────┼─────────┤\n",
      "│ Recall     │          1 │       1 │       1 │       1 │       1 │       1 │\n",
      "╘════════════╧════════════╧═════════╧═════════╧═════════╧═════════╧═════════╛\n"
     ]
    }
   ],
   "source": [
    "vizinhos_1 = tabela_comparacao(df, 1)\n",
    "print(vizinhos_1)"
   ]
  },
  {
   "cell_type": "code",
   "execution_count": 60,
   "id": "260eb989",
   "metadata": {
    "ExecuteTime": {
     "end_time": "2023-05-21T14:48:26.512980Z",
     "start_time": "2023-05-21T14:48:23.192102Z"
    }
   },
   "outputs": [
    {
     "name": "stdout",
     "output_type": "stream",
     "text": [
      "╒════════════╤════════════╤══════════╤══════════╤══════════╤══════════╤══════════╕\n",
      "│ Métricas   │   Original │    50/50 │    60/40 │    70/30 │    80/20 │    90/10 │\n",
      "╞════════════╪════════════╪══════════╪══════════╪══════════╪══════════╪══════════╡\n",
      "│ Acurácia   │   0.862947 │ 0.676842 │ 0.703368 │ 0.746211 │ 0.816632 │ 0.901684 │\n",
      "├────────────┼────────────┼──────────┼──────────┼──────────┼──────────┼──────────┤\n",
      "│ Precision  │   0.563877 │ 0.627196 │ 0.685361 │ 0.74309  │ 0.816786 │ 0.514925 │\n",
      "├────────────┼────────────┼──────────┼──────────┼──────────┼──────────┼──────────┤\n",
      "│ Recall     │   0.595349 │ 0.872    │ 0.934737 │ 0.974286 │ 0.993684 │ 0.290526 │\n",
      "╘════════════╧════════════╧══════════╧══════════╧══════════╧══════════╧══════════╛\n"
     ]
    }
   ],
   "source": [
    "vizinhos_4 = tabela_comparacao(df, 4)\n",
    "print(vizinhos_4)"
   ]
  }
 ],
 "metadata": {
  "kernelspec": {
   "display_name": "Python 3 (ipykernel)",
   "language": "python",
   "name": "python3"
  },
  "language_info": {
   "codemirror_mode": {
    "name": "ipython",
    "version": 3
   },
   "file_extension": ".py",
   "mimetype": "text/x-python",
   "name": "python",
   "nbconvert_exporter": "python",
   "pygments_lexer": "ipython3",
   "version": "3.8.16"
  }
 },
 "nbformat": 4,
 "nbformat_minor": 5
}
