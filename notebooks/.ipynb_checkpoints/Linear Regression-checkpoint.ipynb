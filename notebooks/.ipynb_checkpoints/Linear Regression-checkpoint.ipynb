{
 "cells": [
  {
   "cell_type": "markdown",
   "id": "5aa1257e",
   "metadata": {
    "heading_collapsed": true
   },
   "source": [
    "# 1.0 IMPORTS"
   ]
  },
  {
   "cell_type": "code",
   "execution_count": 20,
   "id": "e4c0a9a4",
   "metadata": {
    "ExecuteTime": {
     "end_time": "2023-05-21T22:39:13.515086Z",
     "start_time": "2023-05-21T22:39:13.500205Z"
    },
    "hidden": true
   },
   "outputs": [],
   "source": [
    "import pandas as pd\n",
    "from sklearn.linear_model import LinearRegression\n",
    "import numpy as np"
   ]
  },
  {
   "cell_type": "markdown",
   "id": "73420fb6",
   "metadata": {
    "hidden": true
   },
   "source": [
    "## 1.1 Load dataset"
   ]
  },
  {
   "cell_type": "code",
   "execution_count": 3,
   "id": "d30fa2c3",
   "metadata": {
    "ExecuteTime": {
     "end_time": "2023-05-21T22:14:56.772179Z",
     "start_time": "2023-05-21T22:14:56.667877Z"
    },
    "hidden": true
   },
   "outputs": [],
   "source": [
    "df = pd.read_csv('../data/train.csv')"
   ]
  },
  {
   "cell_type": "markdown",
   "id": "eb145f74",
   "metadata": {
    "heading_collapsed": true
   },
   "source": [
    "# 2.0 PREPARAÇÃO DOS DADOS"
   ]
  },
  {
   "cell_type": "code",
   "execution_count": 6,
   "id": "433ba2ba",
   "metadata": {
    "ExecuteTime": {
     "end_time": "2023-05-21T22:28:49.939301Z",
     "start_time": "2023-05-21T22:28:49.919993Z"
    },
    "hidden": true
   },
   "outputs": [],
   "source": [
    "features = ['idade', 'divida_atual', 'renda_anual',\n",
    "           'valor_em_investimentos', 'taxa_utilizacao_credito', 'num_emprestimos',\n",
    "           'num_contas_bancarias', 'num_cartoes_credito', 'dias_atraso_dt_venc',\n",
    "           'num_pgtos_atrasados', 'num_consultas_credito', 'taxa_juros',]\n",
    "label = ['saldo_atual']"
   ]
  },
  {
   "cell_type": "code",
   "execution_count": 7,
   "id": "bdaaf88a",
   "metadata": {
    "ExecuteTime": {
     "end_time": "2023-05-21T22:29:27.539667Z",
     "start_time": "2023-05-21T22:29:27.522723Z"
    },
    "hidden": true
   },
   "outputs": [],
   "source": [
    "x_train = df.loc[:, features]\n",
    "y_train = df.loc[:, label]"
   ]
  },
  {
   "cell_type": "markdown",
   "id": "14ae2a4f",
   "metadata": {},
   "source": [
    "# 3.0 TREINAMENTO"
   ]
  },
  {
   "cell_type": "code",
   "execution_count": 14,
   "id": "724c21b0",
   "metadata": {
    "ExecuteTime": {
     "end_time": "2023-05-21T22:36:14.096380Z",
     "start_time": "2023-05-21T22:36:14.074080Z"
    }
   },
   "outputs": [],
   "source": [
    "#model definition\n",
    "lr_model = LinearRegression()\n",
    "\n",
    "#model fit (ajuste, treinamento)\n",
    "lr_model.fit(x_train, y_train)\n",
    "\n",
    "#previsao\n",
    "y_pred = lr_model.predict(x_train)"
   ]
  },
  {
   "cell_type": "code",
   "execution_count": 17,
   "id": "3de68a89",
   "metadata": {
    "ExecuteTime": {
     "end_time": "2023-05-21T22:37:11.432008Z",
     "start_time": "2023-05-21T22:37:11.402702Z"
    }
   },
   "outputs": [
    {
     "data": {
      "text/html": [
       "<div>\n",
       "<style scoped>\n",
       "    .dataframe tbody tr th:only-of-type {\n",
       "        vertical-align: middle;\n",
       "    }\n",
       "\n",
       "    .dataframe tbody tr th {\n",
       "        vertical-align: top;\n",
       "    }\n",
       "\n",
       "    .dataframe thead th {\n",
       "        text-align: right;\n",
       "    }\n",
       "</style>\n",
       "<table border=\"1\" class=\"dataframe\">\n",
       "  <thead>\n",
       "    <tr style=\"text-align: right;\">\n",
       "      <th></th>\n",
       "      <th>idade</th>\n",
       "      <th>saldo_atual</th>\n",
       "      <th>predicted</th>\n",
       "    </tr>\n",
       "  </thead>\n",
       "  <tbody>\n",
       "    <tr>\n",
       "      <th>0</th>\n",
       "      <td>21</td>\n",
       "      <td>278.172008</td>\n",
       "      <td>346.669549</td>\n",
       "    </tr>\n",
       "    <tr>\n",
       "      <th>1</th>\n",
       "      <td>40</td>\n",
       "      <td>268.874152</td>\n",
       "      <td>367.840277</td>\n",
       "    </tr>\n",
       "    <tr>\n",
       "      <th>2</th>\n",
       "      <td>36</td>\n",
       "      <td>446.643127</td>\n",
       "      <td>431.468979</td>\n",
       "    </tr>\n",
       "    <tr>\n",
       "      <th>3</th>\n",
       "      <td>58</td>\n",
       "      <td>321.141267</td>\n",
       "      <td>445.506463</td>\n",
       "    </tr>\n",
       "    <tr>\n",
       "      <th>4</th>\n",
       "      <td>35</td>\n",
       "      <td>428.716114</td>\n",
       "      <td>378.271169</td>\n",
       "    </tr>\n",
       "    <tr>\n",
       "      <th>...</th>\n",
       "      <td>...</td>\n",
       "      <td>...</td>\n",
       "      <td>...</td>\n",
       "    </tr>\n",
       "    <tr>\n",
       "      <th>9495</th>\n",
       "      <td>29</td>\n",
       "      <td>157.500279</td>\n",
       "      <td>449.221632</td>\n",
       "    </tr>\n",
       "    <tr>\n",
       "      <th>9496</th>\n",
       "      <td>1237</td>\n",
       "      <td>497.714090</td>\n",
       "      <td>369.259284</td>\n",
       "    </tr>\n",
       "    <tr>\n",
       "      <th>9497</th>\n",
       "      <td>47</td>\n",
       "      <td>306.557684</td>\n",
       "      <td>412.251748</td>\n",
       "    </tr>\n",
       "    <tr>\n",
       "      <th>9498</th>\n",
       "      <td>42</td>\n",
       "      <td>209.870718</td>\n",
       "      <td>400.685299</td>\n",
       "    </tr>\n",
       "    <tr>\n",
       "      <th>9499</th>\n",
       "      <td>35</td>\n",
       "      <td>971.407512</td>\n",
       "      <td>455.264823</td>\n",
       "    </tr>\n",
       "  </tbody>\n",
       "</table>\n",
       "<p>9500 rows × 3 columns</p>\n",
       "</div>"
      ],
      "text/plain": [
       "      idade  saldo_atual   predicted\n",
       "0        21   278.172008  346.669549\n",
       "1        40   268.874152  367.840277\n",
       "2        36   446.643127  431.468979\n",
       "3        58   321.141267  445.506463\n",
       "4        35   428.716114  378.271169\n",
       "...     ...          ...         ...\n",
       "9495     29   157.500279  449.221632\n",
       "9496   1237   497.714090  369.259284\n",
       "9497     47   306.557684  412.251748\n",
       "9498     42   209.870718  400.685299\n",
       "9499     35   971.407512  455.264823\n",
       "\n",
       "[9500 rows x 3 columns]"
      ]
     },
     "execution_count": 17,
     "metadata": {},
     "output_type": "execute_result"
    }
   ],
   "source": [
    "df1 = df.loc[:, ['idade', 'saldo_atual']]\n",
    "df1['predicted'] = y_pred\n",
    "df1"
   ]
  },
  {
   "cell_type": "markdown",
   "id": "7c059af4",
   "metadata": {
    "heading_collapsed": true
   },
   "source": [
    "## 3.1 Cálculo manual"
   ]
  },
  {
   "cell_type": "code",
   "execution_count": 18,
   "id": "a60402ba",
   "metadata": {
    "ExecuteTime": {
     "end_time": "2023-05-21T22:37:44.258932Z",
     "start_time": "2023-05-21T22:37:44.243044Z"
    },
    "hidden": true
   },
   "outputs": [
    {
     "data": {
      "text/plain": [
       "array([[ 3.96706202e-04, -4.00595601e-02,  2.77622532e-06,\n",
       "        -1.04318668e-03,  9.80890872e+00, -1.22353405e-02,\n",
       "        -6.33015538e-03, -3.57808095e-03, -2.15858165e+00,\n",
       "         3.77570060e-04,  6.79176336e-03,  3.48471845e-03]])"
      ]
     },
     "execution_count": 18,
     "metadata": {},
     "output_type": "execute_result"
    }
   ],
   "source": [
    "lr_model.coef_ # coeficiente atribuido a cada variável, quanto maior o valor mais impacto"
   ]
  },
  {
   "cell_type": "code",
   "execution_count": 31,
   "id": "ded7e9dd",
   "metadata": {
    "ExecuteTime": {
     "end_time": "2023-05-21T22:47:03.573496Z",
     "start_time": "2023-05-21T22:47:03.563553Z"
    },
    "hidden": true
   },
   "outputs": [
    {
     "data": {
      "text/plain": [
       "array([346.66954862])"
      ]
     },
     "execution_count": 31,
     "metadata": {},
     "output_type": "execute_result"
    }
   ],
   "source": [
    "np.sum((x_train.loc[0,].values * lr_model.coef_)) + lr_model.intercept_"
   ]
  },
  {
   "cell_type": "markdown",
   "id": "1007b51b",
   "metadata": {},
   "source": [
    "# 4.0 PERFORMANCE"
   ]
  },
  {
   "cell_type": "markdown",
   "id": "f101ffe0",
   "metadata": {},
   "source": []
  }
 ],
 "metadata": {
  "kernelspec": {
   "display_name": "Python 3 (ipykernel)",
   "language": "python",
   "name": "python3"
  },
  "language_info": {
   "codemirror_mode": {
    "name": "ipython",
    "version": 3
   },
   "file_extension": ".py",
   "mimetype": "text/x-python",
   "name": "python",
   "nbconvert_exporter": "python",
   "pygments_lexer": "ipython3",
   "version": "3.8.16"
  }
 },
 "nbformat": 4,
 "nbformat_minor": 5
}
