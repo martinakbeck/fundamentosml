{
 "cells": [
  {
   "cell_type": "code",
   "execution_count": 1,
   "id": "2a86f2ed",
   "metadata": {
    "ExecuteTime": {
     "end_time": "2023-05-27T21:45:54.101977Z",
     "start_time": "2023-05-27T21:45:51.203677Z"
    }
   },
   "outputs": [],
   "source": [
    "import pandas as pd\n",
    "import numpy  as np\n",
    "\n",
    "from sklearn    import datasets        as ds\n",
    "from sklearn    import model_selection as ms\n",
    "from sklearn    import tree            as tr\n",
    "from sklearn    import metrics         as mt\n",
    "from matplotlib import pyplot          as plt"
   ]
  },
  {
   "cell_type": "markdown",
   "id": "c1079043",
   "metadata": {
    "heading_collapsed": true
   },
   "source": [
    "## Dados Sintéticos"
   ]
  },
  {
   "cell_type": "code",
   "execution_count": 2,
   "id": "e816d15a",
   "metadata": {
    "ExecuteTime": {
     "end_time": "2023-05-27T21:45:54.133506Z",
     "start_time": "2023-05-27T21:45:54.105967Z"
    },
    "hidden": true
   },
   "outputs": [],
   "source": [
    "n_samples = 20000\n",
    "n_features = 2\n",
    "n_informative = 2\n",
    "n_redundant = 0\n",
    "random_state = 0\n",
    "\n",
    "X, y = ds.make_classification (n_samples = n_samples, #número de amostrar\n",
    "                                n_features =n_features, #numero de colunas\n",
    "                                n_informative = n_informative, #features informativas\n",
    "                                n_redundant = n_redundant, #features auto - correlacionadas ou muito correlacionadas\n",
    "                                random_state = random_state)\n",
    "\n",
    "\n",
    "# dados de produção\n",
    "X, X_prod, y, y_prod = ms.train_test_split(X, y, test_size = 0.2, random_state=random_state )"
   ]
  },
  {
   "cell_type": "markdown",
   "id": "4ea4d682",
   "metadata": {
    "heading_collapsed": true
   },
   "source": [
    "# Não há separação dos dados"
   ]
  },
  {
   "cell_type": "code",
   "execution_count": 3,
   "id": "ffaf4d7c",
   "metadata": {
    "ExecuteTime": {
     "end_time": "2023-05-27T21:45:54.212653Z",
     "start_time": "2023-05-27T21:45:54.137481Z"
    },
    "hidden": true
   },
   "outputs": [
    {
     "name": "stdout",
     "output_type": "stream",
     "text": [
      "Acurácia sobre o treinamento: 1.0\n"
     ]
    }
   ],
   "source": [
    "#define o modelo\n",
    "model = tr.DecisionTreeClassifier(max_depth=38)\n",
    "\n",
    "#treinamento\n",
    "model.fit (X, y)\n",
    "\n",
    "#classificação sobre os dados de treinamento\n",
    "yhat = model.predict(X)\n",
    "\n",
    "acc = mt.accuracy_score(y, yhat)\n",
    "\n",
    "print('Acurácia sobre o treinamento: {}'.format(acc))"
   ]
  },
  {
   "cell_type": "markdown",
   "id": "bb2a5e0e",
   "metadata": {
    "heading_collapsed": true,
    "hidden": true
   },
   "source": [
    "## Deploy do Modelo em Produção"
   ]
  },
  {
   "cell_type": "code",
   "execution_count": 4,
   "id": "10bd7203",
   "metadata": {
    "ExecuteTime": {
     "end_time": "2023-05-27T21:45:54.228582Z",
     "start_time": "2023-05-27T21:45:54.215969Z"
    },
    "hidden": true
   },
   "outputs": [
    {
     "name": "stdout",
     "output_type": "stream",
     "text": [
      "Acurácia sobre produção: 0.85375\n"
     ]
    }
   ],
   "source": [
    "yhat_prod = model.predict (X_prod)\n",
    "acc_prod = mt.accuracy_score (y_prod, yhat_prod)\n",
    "\n",
    "print('Acurácia sobre produção: {}'.format(acc_prod))"
   ]
  },
  {
   "cell_type": "markdown",
   "id": "7736d127",
   "metadata": {
    "heading_collapsed": true
   },
   "source": [
    "# Estratégia Treino-Teste"
   ]
  },
  {
   "cell_type": "code",
   "execution_count": 5,
   "id": "e2ab1002",
   "metadata": {
    "ExecuteTime": {
     "end_time": "2023-05-27T21:45:54.243645Z",
     "start_time": "2023-05-27T21:45:54.232524Z"
    },
    "hidden": true
   },
   "outputs": [],
   "source": [
    "# Separar os dados em Treinamento e teste\n",
    "X_train, X_test, y_train, y_test = ms.train_test_split(X, y, test_size = 0.2, random_state=random_state )"
   ]
  },
  {
   "cell_type": "code",
   "execution_count": 6,
   "id": "b5f16d24",
   "metadata": {
    "ExecuteTime": {
     "end_time": "2023-05-27T21:45:54.306781Z",
     "start_time": "2023-05-27T21:45:54.246609Z"
    },
    "hidden": true
   },
   "outputs": [
    {
     "name": "stdout",
     "output_type": "stream",
     "text": [
      "Acurácia sobre os dados teste: 0.85375\n"
     ]
    }
   ],
   "source": [
    "# Modelo com os dados de treinamento\n",
    "tr.DecisionTreeClassifier(max_depth=38)\n",
    "model.fit(X_train, y_train)\n",
    "\n",
    "# Classificação dados de teste\n",
    "yhat_test = model.predict (X_test)\n",
    "acc_test = mt.accuracy_score(y_test, yhat_test)\n",
    "\n",
    "print('Acurácia sobre os dados teste: {}'.format(acc_test))"
   ]
  },
  {
   "cell_type": "markdown",
   "id": "53fac28e",
   "metadata": {
    "hidden": true
   },
   "source": [
    "## Escolha dos parâmetros do algoritmo"
   ]
  },
  {
   "cell_type": "code",
   "execution_count": 7,
   "id": "26649e8a",
   "metadata": {
    "ExecuteTime": {
     "end_time": "2023-05-27T21:45:57.038147Z",
     "start_time": "2023-05-27T21:45:54.313757Z"
    },
    "hidden": true
   },
   "outputs": [],
   "source": [
    "values = [i for i in range (1, 60)]\n",
    "\n",
    "test_score = list()\n",
    "for i in values:\n",
    "    model = tr.DecisionTreeClassifier (max_depth = i)\n",
    "    model.fit (X_train, y_train)\n",
    "    \n",
    "    #classificação sobre o teste\n",
    "    yhat_test = model.predict(X_test)\n",
    "    acc_test = mt.accuracy_score(y_test, yhat_test)\n",
    "    test_score.append(acc_test)"
   ]
  },
  {
   "cell_type": "code",
   "execution_count": 8,
   "id": "e51dc67f",
   "metadata": {
    "ExecuteTime": {
     "end_time": "2023-05-27T21:45:57.316000Z",
     "start_time": "2023-05-27T21:45:57.041998Z"
    },
    "hidden": true
   },
   "outputs": [
    {
     "data": {
      "text/plain": [
       "[<matplotlib.lines.Line2D at 0x28077650370>]"
      ]
     },
     "execution_count": 8,
     "metadata": {},
     "output_type": "execute_result"
    },
    {
     "data": {
      "image/png": "[encoded data removed]",
      "text/plain": [
       "<Figure size 640x480 with 1 Axes>"
      ]
     },
     "metadata": {},
     "output_type": "display_data"
    }
   ],
   "source": [
    "plt.plot(values, test_score, '-o', label='Test')"
   ]
  },
  {
   "cell_type": "markdown",
   "id": "10a81fd7",
   "metadata": {
    "heading_collapsed": true,
    "hidden": true
   },
   "source": [
    "## Deploy do Modelo em Produção"
   ]
  },
  {
   "cell_type": "code",
   "execution_count": 9,
   "id": "57b9c99b",
   "metadata": {
    "ExecuteTime": {
     "end_time": "2023-05-27T21:45:57.362702Z",
     "start_time": "2023-05-27T21:45:57.318728Z"
    },
    "hidden": true
   },
   "outputs": [
    {
     "name": "stdout",
     "output_type": "stream",
     "text": [
      "Acurácia sobre os dados de produção: 0.88175\n"
     ]
    }
   ],
   "source": [
    "# modelo treinado\n",
    "model_last = tr.DecisionTreeClassifier (max_depth=6)\n",
    "model_last.fit(np.concatenate((X_train, X_test)),\n",
    "               np.concatenate((y_train, y_test)))\n",
    "\n",
    "# Classificação dados de Produção\n",
    "yhat_prod = model_last.predict(X_prod)\n",
    "acc_prod = mt.accuracy_score (y_prod, yhat_prod)\n",
    "\n",
    "print('Acurácia sobre os dados de produção: {}'.format(acc_prod))"
   ]
  },
  {
   "cell_type": "markdown",
   "id": "5dc7f1b3",
   "metadata": {
    "heading_collapsed": true
   },
   "source": [
    "# Estratégia Treino-Validação-Teste"
   ]
  },
  {
   "cell_type": "code",
   "execution_count": 10,
   "id": "f68682a5",
   "metadata": {
    "ExecuteTime": {
     "end_time": "2023-05-27T21:45:57.378726Z",
     "start_time": "2023-05-27T21:45:57.368427Z"
    },
    "hidden": true
   },
   "outputs": [],
   "source": [
    "# Separação entre treino e validação\n",
    "X_train, X_val, y_train, y_val = ms.train_test_split (X_train, y_train, test_size=0.2)"
   ]
  },
  {
   "cell_type": "markdown",
   "id": "8e4aaee7",
   "metadata": {
    "hidden": true
   },
   "source": [
    "## Escolha dos parâmetros do algoritmo (Validação)"
   ]
  },
  {
   "cell_type": "code",
   "execution_count": 11,
   "id": "085d03a0",
   "metadata": {
    "ExecuteTime": {
     "end_time": "2023-05-27T21:45:59.591566Z",
     "start_time": "2023-05-27T21:45:57.380428Z"
    },
    "hidden": true
   },
   "outputs": [],
   "source": [
    "values = [i for i in range (1, 60)]\n",
    "train_scores, val_scores = list(), list()\n",
    "\n",
    "for i in values:\n",
    "    model = tr.DecisionTreeClassifier (max_depth = i)\n",
    "    model.fit (X_train, y_train)\n",
    "    \n",
    "    yhat_train = model.predict(X_train)\n",
    "    acc_train = mt.accuracy_score(y_train, yhat_train)\n",
    "    train_scores.append(acc_train)\n",
    "    \n",
    "    #classificação sobre o validação\n",
    "    yhat_val = model.predict(X_val)\n",
    "    acc_val = mt.accuracy_score(y_val, yhat_val)\n",
    "    val_scores.append(acc_val)"
   ]
  },
  {
   "cell_type": "code",
   "execution_count": 12,
   "id": "ccd7d7e5",
   "metadata": {
    "ExecuteTime": {
     "end_time": "2023-05-27T21:45:59.871697Z",
     "start_time": "2023-05-27T21:45:59.595533Z"
    },
    "hidden": true
   },
   "outputs": [
    {
     "data": {
      "image/png": "[encoded data removed]",
      "text/plain": [
       "<Figure size 640x480 with 1 Axes>"
      ]
     },
     "metadata": {},
     "output_type": "display_data"
    }
   ],
   "source": [
    "plt.plot(values, train_scores, '-o', label='Treino')\n",
    "plt.plot(values, val_scores, '-o', label='Validacao')\n",
    "plt.xlabel('Max Depth')\n",
    "plt.ylabel('Acurácia')\n",
    "plt.legend()\n",
    "plt.show()"
   ]
  },
  {
   "cell_type": "code",
   "execution_count": 14,
   "id": "a9d4431d",
   "metadata": {
    "ExecuteTime": {
     "end_time": "2023-05-27T21:47:52.620636Z",
     "start_time": "2023-05-27T21:47:52.558363Z"
    },
    "hidden": true
   },
   "outputs": [
    {
     "name": "stdout",
     "output_type": "stream",
     "text": [
      "Acurácia sobre os dados de Treino: 0.8880859375\n",
      "AcuráciA sobre os dados de validação: 0.88359375\n",
      "Acurácia sobre os dados de teste: 0.899375\n",
      "Acurácia sobre os dados de produção: 0.88175\n"
     ]
    }
   ],
   "source": [
    "#Treinando o modelo\n",
    "model = tr.DecisionTreeClassifier (max_depth = 8)\n",
    "model.fit (X_train, y_train)\n",
    "\n",
    "##### PREVISÃO TREINO \n",
    "yhat_train = model_last.predict(X_train)\n",
    "acc_train = mt.accuracy_score(y_train, yhat_train)\n",
    "print( \"Acurácia sobre os dados de Treino: {}\".format(acc_train))\n",
    "\n",
    "\n",
    "##### PREVISÃO VALIDAÇÃO\n",
    "yhat_val = model.predict(X_val)\n",
    "acc_val = mt.accuracy_score(y_val, yhat_val)\n",
    "val_scores.append(acc_val)\n",
    "print('AcuráciA sobre os dados de validação: {}'.format(acc_val))\n",
    "\n",
    "##### PREVISÃO TESTE\n",
    "yhat_test = model_last.predict(X_test)\n",
    "acc_test = mt.accuracy_score(y_test, yhat_test)\n",
    "print('Acurácia sobre os dados de teste: {}'.format(acc_test))\n",
    "\n",
    "##### PREVISÃO PRODUÇÃO\n",
    "#classificação sobre os dados de teste\n",
    "yhat_prod = model_last.predict(X_prod)\n",
    "acc_prod = mt.accuracy_score(y_prod, yhat_prod)\n",
    "print('Acurácia sobre os dados de produção: {}'.format(acc_prod))"
   ]
  }
 ],
 "metadata": {
  "kernelspec": {
   "display_name": "Python 3 (ipykernel)",
   "language": "python",
   "name": "python3"
  },
  "language_info": {
   "codemirror_mode": {
    "name": "ipython",
    "version": 3
   },
   "file_extension": ".py",
   "mimetype": "text/x-python",
   "name": "python",
   "nbconvert_exporter": "python",
   "pygments_lexer": "ipython3",
   "version": "3.8.16"
  }
 },
 "nbformat": 4,
 "nbformat_minor": 5
}
