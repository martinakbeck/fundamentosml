{
 "cells": [
  {
   "cell_type": "markdown",
   "id": "5aa1257e",
   "metadata": {
    "heading_collapsed": true
   },
   "source": [
    "# 1.0 IMPORTS"
   ]
  },
  {
   "cell_type": "code",
   "execution_count": 1,
   "id": "e4c0a9a4",
   "metadata": {
    "ExecuteTime": {
     "end_time": "2023-05-22T18:36:49.814034Z",
     "start_time": "2023-05-22T18:36:47.242803Z"
    },
    "hidden": true
   },
   "outputs": [],
   "source": [
    "import pandas as pd\n",
    "from sklearn.linear_model import LinearRegression\n",
    "import numpy as np\n",
    "from sklearn import metrics as mt\n",
    "import statsmodels.formula.api as smf\n",
    "import statsmodels.api as sm"
   ]
  },
  {
   "cell_type": "markdown",
   "id": "73420fb6",
   "metadata": {
    "hidden": true
   },
   "source": [
    "## 1.1 Load dataset"
   ]
  },
  {
   "cell_type": "code",
   "execution_count": 2,
   "id": "d30fa2c3",
   "metadata": {
    "ExecuteTime": {
     "end_time": "2023-05-22T18:36:49.861374Z",
     "start_time": "2023-05-22T18:36:49.817874Z"
    },
    "hidden": true
   },
   "outputs": [],
   "source": [
    "df = pd.read_csv('../data/train.csv')"
   ]
  },
  {
   "cell_type": "markdown",
   "id": "eb145f74",
   "metadata": {
    "heading_collapsed": true
   },
   "source": [
    "# 2.0 PREPARAÇÃO DOS DADOS"
   ]
  },
  {
   "cell_type": "code",
   "execution_count": 3,
   "id": "433ba2ba",
   "metadata": {
    "ExecuteTime": {
     "end_time": "2023-05-22T18:36:49.876655Z",
     "start_time": "2023-05-22T18:36:49.863293Z"
    },
    "hidden": true
   },
   "outputs": [],
   "source": [
    "features = ['idade', 'divida_atual', 'renda_anual', 'valor_em_investimentos', 'taxa_utilizacao_credito', 'num_emprestimos', 'num_contas_bancarias', 'num_cartoes_credito', 'dias_atraso_dt_venc', 'num_pgtos_atrasados', 'num_consultas_credito', 'taxa_juros']\n",
    "#            3.96706202e-04, -4.00595601e-02,  2.77622532e-06, -1.04318668e-03,  9.80890872e+00, -1.22353405e-02, -6.33015538e-03, -3.57808095e-03, -2.15858165e+00, 3.77570060e-04,  6.79176336e-03,  3.48471845e-03\n",
    "#features = ['idade', 'taxa_utilizacao_credito', 'dias_atraso_dt_venc', 'num_pgtos_atrasados', 'num_consultas_credito']\n",
    "label = ['saldo_atual']"
   ]
  },
  {
   "cell_type": "code",
   "execution_count": 4,
   "id": "bdaaf88a",
   "metadata": {
    "ExecuteTime": {
     "end_time": "2023-05-22T18:36:49.891767Z",
     "start_time": "2023-05-22T18:36:49.880640Z"
    },
    "hidden": true
   },
   "outputs": [],
   "source": [
    "x_train = df.loc[:, features]\n",
    "y_train = df.loc[:, label]"
   ]
  },
  {
   "cell_type": "markdown",
   "id": "14ae2a4f",
   "metadata": {
    "heading_collapsed": true
   },
   "source": [
    "# 3.0 TREINAMENTO"
   ]
  },
  {
   "cell_type": "code",
   "execution_count": 5,
   "id": "724c21b0",
   "metadata": {
    "ExecuteTime": {
     "end_time": "2023-05-22T18:36:49.923098Z",
     "start_time": "2023-05-22T18:36:49.894574Z"
    },
    "hidden": true
   },
   "outputs": [],
   "source": [
    "#model definition\n",
    "lr_model = LinearRegression()\n",
    "\n",
    "#model fit (ajuste, treinamento)\n",
    "lr_model.fit(x_train, y_train)\n",
    "\n",
    "#previsao\n",
    "y_pred = lr_model.predict(x_train)"
   ]
  },
  {
   "cell_type": "code",
   "execution_count": 6,
   "id": "3de68a89",
   "metadata": {
    "ExecuteTime": {
     "end_time": "2023-05-22T18:36:49.954154Z",
     "start_time": "2023-05-22T18:36:49.924938Z"
    },
    "hidden": true
   },
   "outputs": [
    {
     "data": {
      "text/html": [
       "<div>\n",
       "<style scoped>\n",
       "    .dataframe tbody tr th:only-of-type {\n",
       "        vertical-align: middle;\n",
       "    }\n",
       "\n",
       "    .dataframe tbody tr th {\n",
       "        vertical-align: top;\n",
       "    }\n",
       "\n",
       "    .dataframe thead th {\n",
       "        text-align: right;\n",
       "    }\n",
       "</style>\n",
       "<table border=\"1\" class=\"dataframe\">\n",
       "  <thead>\n",
       "    <tr style=\"text-align: right;\">\n",
       "      <th></th>\n",
       "      <th>idade</th>\n",
       "      <th>saldo_atual</th>\n",
       "      <th>predicted</th>\n",
       "    </tr>\n",
       "  </thead>\n",
       "  <tbody>\n",
       "    <tr>\n",
       "      <th>0</th>\n",
       "      <td>21</td>\n",
       "      <td>278.172008</td>\n",
       "      <td>346.669549</td>\n",
       "    </tr>\n",
       "    <tr>\n",
       "      <th>1</th>\n",
       "      <td>40</td>\n",
       "      <td>268.874152</td>\n",
       "      <td>367.840277</td>\n",
       "    </tr>\n",
       "    <tr>\n",
       "      <th>2</th>\n",
       "      <td>36</td>\n",
       "      <td>446.643127</td>\n",
       "      <td>431.468979</td>\n",
       "    </tr>\n",
       "    <tr>\n",
       "      <th>3</th>\n",
       "      <td>58</td>\n",
       "      <td>321.141267</td>\n",
       "      <td>445.506463</td>\n",
       "    </tr>\n",
       "    <tr>\n",
       "      <th>4</th>\n",
       "      <td>35</td>\n",
       "      <td>428.716114</td>\n",
       "      <td>378.271169</td>\n",
       "    </tr>\n",
       "    <tr>\n",
       "      <th>...</th>\n",
       "      <td>...</td>\n",
       "      <td>...</td>\n",
       "      <td>...</td>\n",
       "    </tr>\n",
       "    <tr>\n",
       "      <th>9495</th>\n",
       "      <td>29</td>\n",
       "      <td>157.500279</td>\n",
       "      <td>449.221632</td>\n",
       "    </tr>\n",
       "    <tr>\n",
       "      <th>9496</th>\n",
       "      <td>1237</td>\n",
       "      <td>497.714090</td>\n",
       "      <td>369.259284</td>\n",
       "    </tr>\n",
       "    <tr>\n",
       "      <th>9497</th>\n",
       "      <td>47</td>\n",
       "      <td>306.557684</td>\n",
       "      <td>412.251748</td>\n",
       "    </tr>\n",
       "    <tr>\n",
       "      <th>9498</th>\n",
       "      <td>42</td>\n",
       "      <td>209.870718</td>\n",
       "      <td>400.685299</td>\n",
       "    </tr>\n",
       "    <tr>\n",
       "      <th>9499</th>\n",
       "      <td>35</td>\n",
       "      <td>971.407512</td>\n",
       "      <td>455.264823</td>\n",
       "    </tr>\n",
       "  </tbody>\n",
       "</table>\n",
       "<p>9500 rows × 3 columns</p>\n",
       "</div>"
      ],
      "text/plain": [
       "      idade  saldo_atual   predicted\n",
       "0        21   278.172008  346.669549\n",
       "1        40   268.874152  367.840277\n",
       "2        36   446.643127  431.468979\n",
       "3        58   321.141267  445.506463\n",
       "4        35   428.716114  378.271169\n",
       "...     ...          ...         ...\n",
       "9495     29   157.500279  449.221632\n",
       "9496   1237   497.714090  369.259284\n",
       "9497     47   306.557684  412.251748\n",
       "9498     42   209.870718  400.685299\n",
       "9499     35   971.407512  455.264823\n",
       "\n",
       "[9500 rows x 3 columns]"
      ]
     },
     "execution_count": 6,
     "metadata": {},
     "output_type": "execute_result"
    }
   ],
   "source": [
    "df1 = df.loc[:, ['idade', 'saldo_atual']]\n",
    "df1['predicted'] = y_pred\n",
    "df1"
   ]
  },
  {
   "cell_type": "markdown",
   "id": "b08a1970",
   "metadata": {
    "heading_collapsed": true,
    "hidden": true
   },
   "source": [
    "## 3.1 Cálculo manual"
   ]
  },
  {
   "cell_type": "code",
   "execution_count": 7,
   "id": "a60402ba",
   "metadata": {
    "ExecuteTime": {
     "end_time": "2023-05-22T18:36:49.969167Z",
     "start_time": "2023-05-22T18:36:49.956038Z"
    },
    "hidden": true
   },
   "outputs": [
    {
     "data": {
      "text/plain": [
       "array([[ 3.96706202e-04, -4.00595601e-02,  2.77622532e-06,\n",
       "        -1.04318668e-03,  9.80890872e+00, -1.22353405e-02,\n",
       "        -6.33015538e-03, -3.57808095e-03, -2.15858165e+00,\n",
       "         3.77570060e-04,  6.79176336e-03,  3.48471845e-03]])"
      ]
     },
     "execution_count": 7,
     "metadata": {},
     "output_type": "execute_result"
    }
   ],
   "source": [
    "lr_model.coef_ # coeficiente atribuido a cada variável, quanto maior o valor mais impacto"
   ]
  },
  {
   "cell_type": "code",
   "execution_count": 8,
   "id": "ded7e9dd",
   "metadata": {
    "ExecuteTime": {
     "end_time": "2023-05-22T18:36:49.985127Z",
     "start_time": "2023-05-22T18:36:49.971011Z"
    },
    "hidden": true
   },
   "outputs": [
    {
     "data": {
      "text/plain": [
       "array([346.66954862])"
      ]
     },
     "execution_count": 8,
     "metadata": {},
     "output_type": "execute_result"
    }
   ],
   "source": [
    "np.sum((x_train.loc[0,].values * lr_model.coef_)) + lr_model.intercept_"
   ]
  },
  {
   "cell_type": "markdown",
   "id": "083798fc",
   "metadata": {
    "heading_collapsed": true,
    "hidden": true
   },
   "source": [
    "## 3.2 Model Training - Statsmodel"
   ]
  },
  {
   "cell_type": "code",
   "execution_count": 9,
   "id": "2f867318",
   "metadata": {
    "ExecuteTime": {
     "end_time": "2023-05-22T18:36:50.001021Z",
     "start_time": "2023-05-22T18:36:49.986971Z"
    },
    "hidden": true
   },
   "outputs": [],
   "source": [
    "df = pd.concat([x_train, y_train], axis=1)"
   ]
  },
  {
   "cell_type": "code",
   "execution_count": 10,
   "id": "07b9c8e4",
   "metadata": {
    "ExecuteTime": {
     "end_time": "2023-05-22T18:36:50.047875Z",
     "start_time": "2023-05-22T18:36:50.005906Z"
    },
    "hidden": true
   },
   "outputs": [
    {
     "data": {
      "text/html": [
       "<div>\n",
       "<style scoped>\n",
       "    .dataframe tbody tr th:only-of-type {\n",
       "        vertical-align: middle;\n",
       "    }\n",
       "\n",
       "    .dataframe tbody tr th {\n",
       "        vertical-align: top;\n",
       "    }\n",
       "\n",
       "    .dataframe thead th {\n",
       "        text-align: right;\n",
       "    }\n",
       "</style>\n",
       "<table border=\"1\" class=\"dataframe\">\n",
       "  <thead>\n",
       "    <tr style=\"text-align: right;\">\n",
       "      <th></th>\n",
       "      <th>sum_sq</th>\n",
       "      <th>df</th>\n",
       "      <th>F</th>\n",
       "      <th>PR(&gt;F)</th>\n",
       "    </tr>\n",
       "  </thead>\n",
       "  <tbody>\n",
       "    <tr>\n",
       "      <th>idade</th>\n",
       "      <td>1.755753e+00</td>\n",
       "      <td>1.0</td>\n",
       "      <td>0.000041</td>\n",
       "      <td>9.948823e-01</td>\n",
       "    </tr>\n",
       "    <tr>\n",
       "      <th>divida_atual</th>\n",
       "      <td>4.490862e+07</td>\n",
       "      <td>1.0</td>\n",
       "      <td>1052.368542</td>\n",
       "      <td>4.928867e-219</td>\n",
       "    </tr>\n",
       "    <tr>\n",
       "      <th>num_emprestimos</th>\n",
       "      <td>3.976109e+03</td>\n",
       "      <td>1.0</td>\n",
       "      <td>0.093174</td>\n",
       "      <td>7.601864e-01</td>\n",
       "    </tr>\n",
       "    <tr>\n",
       "      <th>Residual</th>\n",
       "      <td>4.052309e+08</td>\n",
       "      <td>9496.0</td>\n",
       "      <td>NaN</td>\n",
       "      <td>NaN</td>\n",
       "    </tr>\n",
       "  </tbody>\n",
       "</table>\n",
       "</div>"
      ],
      "text/plain": [
       "                       sum_sq      df            F         PR(>F)\n",
       "idade            1.755753e+00     1.0     0.000041   9.948823e-01\n",
       "divida_atual     4.490862e+07     1.0  1052.368542  4.928867e-219\n",
       "num_emprestimos  3.976109e+03     1.0     0.093174   7.601864e-01\n",
       "Residual         4.052309e+08  9496.0          NaN            NaN"
      ]
     },
     "execution_count": 10,
     "metadata": {},
     "output_type": "execute_result"
    }
   ],
   "source": [
    "#model definition\n",
    "lr_model2 = smf.ols(formula='saldo_atual ~ idade + divida_atual + num_emprestimos', data=df)\n",
    "\n",
    "#model training (ajuste de dados)\n",
    "lr_model2 = lr_model2.fit()\n",
    "\n",
    "#\n",
    "anova_result2 = sm.stats.anova_lm(lr_model2, typ=2)\n",
    "(anova_result2)"
   ]
  },
  {
   "cell_type": "code",
   "execution_count": 11,
   "id": "d1f19d70",
   "metadata": {
    "ExecuteTime": {
     "end_time": "2023-05-22T18:36:50.139995Z",
     "start_time": "2023-05-22T18:36:50.051804Z"
    },
    "hidden": true
   },
   "outputs": [
    {
     "name": "stdout",
     "output_type": "stream",
     "text": [
      "                            OLS Regression Results                            \n",
      "==============================================================================\n",
      "Dep. Variable:            saldo_atual   R-squared:                       0.100\n",
      "Model:                            OLS   Adj. R-squared:                  0.100\n",
      "Method:                 Least Squares   F-statistic:                     351.1\n",
      "Date:                Mon, 22 May 2023   Prob (F-statistic):          3.21e-216\n",
      "Time:                        15:36:50   Log-Likelihood:                -64119.\n",
      "No. Observations:                9500   AIC:                         1.282e+05\n",
      "Df Residuals:                    9496   BIC:                         1.283e+05\n",
      "Df Model:                           3                                         \n",
      "Covariance Type:            nonrobust                                         \n",
      "===================================================================================\n",
      "                      coef    std err          t      P>|t|      [0.025      0.975]\n",
      "-----------------------------------------------------------------------------------\n",
      "Intercept         490.1201      3.419    143.337      0.000     483.417     496.823\n",
      "idade           -1.985e-05      0.003     -0.006      0.995      -0.006       0.006\n",
      "divida_atual       -0.0595      0.002    -32.440      0.000      -0.063      -0.056\n",
      "num_emprestimos    -0.0103      0.034     -0.305      0.760      -0.077       0.056\n",
      "==============================================================================\n",
      "Omnibus:                     2666.251   Durbin-Watson:                   2.020\n",
      "Prob(Omnibus):                  0.000   Jarque-Bera (JB):             7333.012\n",
      "Skew:                           1.494   Prob(JB):                         0.00\n",
      "Kurtosis:                       6.097   Cond. No.                     2.98e+03\n",
      "==============================================================================\n",
      "\n",
      "Notes:\n",
      "[1] Standard Errors assume that the covariance matrix of the errors is correctly specified.\n",
      "[2] The condition number is large, 2.98e+03. This might indicate that there are\n",
      "strong multicollinearity or other numerical problems.\n"
     ]
    }
   ],
   "source": [
    "print(lr_model2.summary())"
   ]
  },
  {
   "cell_type": "markdown",
   "id": "1007b51b",
   "metadata": {
    "heading_collapsed": true
   },
   "source": [
    "# 4.0 PERFORMANCE"
   ]
  },
  {
   "cell_type": "markdown",
   "id": "b38cc90e",
   "metadata": {
    "hidden": true
   },
   "source": [
    "## 4.1 R2"
   ]
  },
  {
   "cell_type": "code",
   "execution_count": 12,
   "id": "6188c819",
   "metadata": {
    "ExecuteTime": {
     "end_time": "2023-05-22T18:36:50.155910Z",
     "start_time": "2023-05-22T18:36:50.142971Z"
    },
    "hidden": true
   },
   "outputs": [
    {
     "data": {
      "text/plain": [
       "0.16917364489050013"
      ]
     },
     "execution_count": 12,
     "metadata": {},
     "output_type": "execute_result"
    }
   ],
   "source": [
    "mt.r2_score(y_train, y_pred)"
   ]
  },
  {
   "cell_type": "code",
   "execution_count": 13,
   "id": "4d3b1775",
   "metadata": {
    "ExecuteTime": {
     "end_time": "2023-05-22T18:36:50.171917Z",
     "start_time": "2023-05-22T18:36:50.157905Z"
    },
    "hidden": true
   },
   "outputs": [
    {
     "name": "stdout",
     "output_type": "stream",
     "text": [
      "R2 square: 16.92%\n"
     ]
    }
   ],
   "source": [
    "r2_squared = np.round(100*mt.r2_score(y_train, y_pred),2)\n",
    "print('R2 square: {}%'.format(r2_squared))"
   ]
  },
  {
   "cell_type": "markdown",
   "id": "425a9960",
   "metadata": {
    "hidden": true
   },
   "source": [
    "## 4.2 MSE"
   ]
  },
  {
   "cell_type": "code",
   "execution_count": 14,
   "id": "e254a39b",
   "metadata": {
    "ExecuteTime": {
     "end_time": "2023-05-22T18:36:50.186859Z",
     "start_time": "2023-05-22T18:36:50.173897Z"
    },
    "hidden": true
   },
   "outputs": [
    {
     "name": "stdout",
     "output_type": "stream",
     "text": [
      "A cada previsão, o erro médio é de: U$39370.27\n"
     ]
    }
   ],
   "source": [
    "mse = np.round( mt.mean_squared_error( y_train, y_pred ) , 2 )\n",
    "print( 'A cada previsão, o erro médio é de: U${}'.format( mse ) )"
   ]
  },
  {
   "cell_type": "markdown",
   "id": "dc57587a",
   "metadata": {
    "hidden": true
   },
   "source": [
    "## 4.3 RMSE"
   ]
  },
  {
   "cell_type": "code",
   "execution_count": 15,
   "id": "02c2e539",
   "metadata": {
    "ExecuteTime": {
     "end_time": "2023-05-22T18:36:50.201940Z",
     "start_time": "2023-05-22T18:36:50.188822Z"
    },
    "hidden": true
   },
   "outputs": [
    {
     "name": "stdout",
     "output_type": "stream",
     "text": [
      "A cada previsão, o erro médio é de : U$198.41942949217446\n"
     ]
    }
   ],
   "source": [
    "rmse = np.sqrt (mse)\n",
    "print('A cada previsão, o erro médio é de : U${}'.format(rmse))"
   ]
  },
  {
   "cell_type": "code",
   "execution_count": 16,
   "id": "f65cbd15",
   "metadata": {
    "ExecuteTime": {
     "end_time": "2023-05-22T18:36:50.217463Z",
     "start_time": "2023-05-22T18:36:50.203783Z"
    },
    "hidden": true
   },
   "outputs": [],
   "source": [
    "df_aux = (r2_squared, mse, rmse)"
   ]
  },
  {
   "cell_type": "markdown",
   "id": "8a87dda3",
   "metadata": {
    "heading_collapsed": true
   },
   "source": [
    "# 5.0 EXERCICIOS"
   ]
  },
  {
   "cell_type": "code",
   "execution_count": 17,
   "id": "f5f563aa",
   "metadata": {
    "ExecuteTime": {
     "end_time": "2023-05-22T18:36:50.233253Z",
     "start_time": "2023-05-22T18:36:50.219291Z"
    },
    "hidden": true
   },
   "outputs": [],
   "source": [
    "def criar_outliers(cols, porcentagem):\n",
    "    df_aux = df.copy()\n",
    "    for col in cols:\n",
    "        if df_aux[col].mean() < 100: \n",
    "            linhas_selecionadas = np.random.choice( df_aux.index, size=int(len(df) * porcentagem), replace=False)\n",
    "            df_aux.loc[linhas_selecionadas, col] = df_aux.loc[linhas_selecionadas, col] + np.random.normal(100,30,len(linhas_selecionadas)) \n",
    "\n",
    "        elif (df_aux[col].mean() > 100) and (df_aux[col].mean() < 1600):\n",
    "            linhas_selecionadas = np.random.choice( df_aux.index, size=int(len(df) * porcentagem), replace=False)\n",
    "            df_aux.loc[linhas_selecionadas, col] = df_aux.loc[linhas_selecionadas, col] + np.random.normal(1000,300,len(linhas_selecionadas)) \n",
    "\n",
    "        else:\n",
    "            linhas_selecionadas = np.random.choice( df_aux.index, size=int(len(df) * porcentagem), replace=False)\n",
    "            df_aux.loc[linhas_selecionadas, col] = df_aux.loc[linhas_selecionadas, col] + np.random.normal(10000,3000,len(linhas_selecionadas)) \n",
    "\n",
    "    return df_aux"
   ]
  },
  {
   "cell_type": "code",
   "execution_count": 18,
   "id": "3ce19045",
   "metadata": {
    "ExecuteTime": {
     "end_time": "2023-05-22T18:36:50.248386Z",
     "start_time": "2023-05-22T18:36:50.235329Z"
    },
    "hidden": true
   },
   "outputs": [],
   "source": [
    "def linear_regression(df):\n",
    "    x_train = df.loc[:, features]\n",
    "    y_train = df.loc[:, label]\n",
    "    \n",
    "    #model definition\n",
    "    lr_model = LinearRegression()\n",
    "\n",
    "    #model fit (ajuste, treinamento)\n",
    "    lr_model.fit(x_train, y_train)\n",
    "\n",
    "    #previsao\n",
    "    y_pred = lr_model.predict(x_train)\n",
    "    \n",
    "    df1 = df.loc[:, ['idade', 'saldo_atual']]\n",
    "    df1['predicted'] = y_pred\n",
    "    \n",
    "    r2 = np.round(100*mt.r2_score(y_train, y_pred),2)\n",
    "    mse = np.round( mt.mean_squared_error( y_train, y_pred ) , 2 )\n",
    "    rmse = np.sqrt (mse)\n",
    "    \n",
    "    print('R2 square: {}%'.format(r2))\n",
    "    print( 'A cada previsão, o erro médio é de: U${}'.format( mse ) )\n",
    "    print('A cada previsão, o erro médio é de : U${}'.format(rmse))\n",
    "    \n",
    "    return r2, mse, rmse\n",
    "    "
   ]
  },
  {
   "cell_type": "markdown",
   "id": "285da4fa",
   "metadata": {
    "heading_collapsed": true,
    "hidden": true
   },
   "source": [
    "## 5.1  Qual o problema principal de usar a métrica MSE? Escreve um exemplo hipotético, no qual o problema acontece."
   ]
  },
  {
   "cell_type": "markdown",
   "id": "ebce30a9",
   "metadata": {
    "hidden": true
   },
   "source": [
    "A métrica MSE é sensível a outliers, esses valores altos ou muito abaixos ficam distantes da maioria acaba distorcendo o valor do MSE.\n",
    "Como é medido pelo erro médio ao quadrado acaba aumentando/diminuindo muito a média do erro.\n",
    "\n",
    "Se tivermos um conjunto de dados que os valores estão em torno de 10 e há um único outlier com o valor 100, o erro quadrático será de 90² = 8100, mesmo que a maioria seja pequena."
   ]
  },
  {
   "cell_type": "markdown",
   "id": "e60237d5",
   "metadata": {
    "heading_collapsed": true,
    "hidden": true
   },
   "source": [
    "## 5.2 Explique com um pequeno texto ilustrando o benefício de usar a métrica RMSE"
   ]
  },
  {
   "cell_type": "markdown",
   "id": "6dc0b61f",
   "metadata": {
    "hidden": true
   },
   "source": [
    "RMSE calcula a raiz quadrada do erro médio quadrático (MSE), fica com a mesma unidade de medida dos valores originais.\n",
    "Ele também consegue ser mais robusto na presença de outliers"
   ]
  },
  {
   "cell_type": "markdown",
   "id": "99a5359e",
   "metadata": {
    "heading_collapsed": true,
    "hidden": true
   },
   "source": [
    "## 5.3 Modifique 5% das linhas de algumas colunas, adicionando outliers e refaça as métricas de R2, MSE e RMSE."
   ]
  },
  {
   "cell_type": "code",
   "execution_count": 19,
   "id": "b9abcc7f",
   "metadata": {
    "ExecuteTime": {
     "end_time": "2023-05-22T18:36:50.295148Z",
     "start_time": "2023-05-22T18:36:50.250208Z"
    },
    "hidden": true
   },
   "outputs": [
    {
     "name": "stdout",
     "output_type": "stream",
     "text": [
      "R2 square: 16.74%\n",
      "A cada previsão, o erro médio é de: U$39452.17\n",
      "A cada previsão, o erro médio é de : U$198.6257032712534\n"
     ]
    },
    {
     "data": {
      "text/plain": [
       "(16.74, 39452.17, 198.6257032712534)"
      ]
     },
     "execution_count": 19,
     "metadata": {},
     "output_type": "execute_result"
    }
   ],
   "source": [
    "df_aux5 = criar_outliers(['idade','divida_atual', 'renda_anual'], 0.05)\n",
    "linear_regression(df_aux5)"
   ]
  },
  {
   "cell_type": "markdown",
   "id": "a5d17b14",
   "metadata": {
    "heading_collapsed": true,
    "hidden": true
   },
   "source": [
    "## 5.4 Faça a seguinte bateria de testes"
   ]
  },
  {
   "cell_type": "markdown",
   "id": "6e588510",
   "metadata": {
    "heading_collapsed": true,
    "hidden": true
   },
   "source": [
    "### 5.4.1 Refaça o exercícios 4 com as seguintes quantidade de outliers: 2%, 5%, 10%, 20% e 30%."
   ]
  },
  {
   "cell_type": "code",
   "execution_count": 20,
   "id": "ac865d08",
   "metadata": {
    "ExecuteTime": {
     "end_time": "2023-05-22T18:36:50.311045Z",
     "start_time": "2023-05-22T18:36:50.298082Z"
    },
    "hidden": true
   },
   "outputs": [],
   "source": [
    "cols = ['idade', 'saldo_atual', 'divida_atual']"
   ]
  },
  {
   "cell_type": "markdown",
   "id": "946edc56",
   "metadata": {
    "heading_collapsed": true,
    "hidden": true
   },
   "source": [
    "#### 2% outliers"
   ]
  },
  {
   "cell_type": "code",
   "execution_count": 21,
   "id": "1f3964e1",
   "metadata": {
    "ExecuteTime": {
     "end_time": "2023-05-22T18:36:50.358188Z",
     "start_time": "2023-05-22T18:36:50.313041Z"
    },
    "hidden": true
   },
   "outputs": [
    {
     "name": "stdout",
     "output_type": "stream",
     "text": [
      "R2 square: 11.37%\n",
      "A cada previsão, o erro médio é de: U$61891.14\n",
      "A cada previsão, o erro médio é de : U$248.77929978195533\n"
     ]
    }
   ],
   "source": [
    "df_aux2 = criar_outliers(cols, 0.02)\n",
    "df_aux2 = linear_regression(df_aux2)"
   ]
  },
  {
   "cell_type": "markdown",
   "id": "6c92bb70",
   "metadata": {
    "heading_collapsed": true,
    "hidden": true
   },
   "source": [
    "#### 5% outliers"
   ]
  },
  {
   "cell_type": "code",
   "execution_count": 22,
   "id": "8cb19091",
   "metadata": {
    "ExecuteTime": {
     "end_time": "2023-05-22T18:36:50.405102Z",
     "start_time": "2023-05-22T18:36:50.361260Z"
    },
    "hidden": true
   },
   "outputs": [
    {
     "name": "stdout",
     "output_type": "stream",
     "text": [
      "R2 square: 8.35%\n",
      "A cada previsão, o erro médio é de: U$90716.5\n",
      "A cada previsão, o erro médio é de : U$301.1917993571538\n"
     ]
    }
   ],
   "source": [
    "df_aux5 = criar_outliers(cols, 0.05)\n",
    "df_aux5 = linear_regression(df_aux5)"
   ]
  },
  {
   "cell_type": "markdown",
   "id": "262ebb45",
   "metadata": {
    "heading_collapsed": true,
    "hidden": true
   },
   "source": [
    "#### 10% outliers"
   ]
  },
  {
   "cell_type": "code",
   "execution_count": 23,
   "id": "b6a9d560",
   "metadata": {
    "ExecuteTime": {
     "end_time": "2023-05-22T18:36:50.452806Z",
     "start_time": "2023-05-22T18:36:50.406860Z"
    },
    "hidden": true
   },
   "outputs": [
    {
     "name": "stdout",
     "output_type": "stream",
     "text": [
      "R2 square: 5.91%\n",
      "A cada previsão, o erro médio é de: U$140660.42\n",
      "A cada previsão, o erro médio é de : U$375.0472236932304\n"
     ]
    }
   ],
   "source": [
    "df_aux10 = criar_outliers(cols, 0.10)\n",
    "df_aux10 = linear_regression(df_aux10)"
   ]
  },
  {
   "cell_type": "markdown",
   "id": "db21c0f0",
   "metadata": {
    "heading_collapsed": true,
    "hidden": true
   },
   "source": [
    "#### 20% outliers"
   ]
  },
  {
   "cell_type": "code",
   "execution_count": 24,
   "id": "1d434f8e",
   "metadata": {
    "ExecuteTime": {
     "end_time": "2023-05-22T18:36:50.500580Z",
     "start_time": "2023-05-22T18:36:50.454702Z"
    },
    "hidden": true
   },
   "outputs": [
    {
     "name": "stdout",
     "output_type": "stream",
     "text": [
      "R2 square: 3.31%\n",
      "A cada previsão, o erro médio é de: U$219689.51\n",
      "A cada previsão, o erro médio é de : U$468.7104756670156\n"
     ]
    }
   ],
   "source": [
    "df_aux20 = criar_outliers(cols, 0.20)\n",
    "df_aux20 = linear_regression(df_aux20)"
   ]
  },
  {
   "cell_type": "markdown",
   "id": "20725d86",
   "metadata": {
    "heading_collapsed": true,
    "hidden": true
   },
   "source": [
    "#### 30% outliers"
   ]
  },
  {
   "cell_type": "code",
   "execution_count": 25,
   "id": "4bac7090",
   "metadata": {
    "ExecuteTime": {
     "end_time": "2023-05-22T18:36:50.548566Z",
     "start_time": "2023-05-22T18:36:50.502574Z"
    },
    "hidden": true
   },
   "outputs": [
    {
     "name": "stdout",
     "output_type": "stream",
     "text": [
      "R2 square: 3.02%\n",
      "A cada previsão, o erro médio é de: U$275828.22\n",
      "A cada previsão, o erro médio é de : U$525.1935071952051\n"
     ]
    }
   ],
   "source": [
    "df_aux30 = criar_outliers(cols, 0.30)\n",
    "df_aux30 = linear_regression(df_aux30)"
   ]
  },
  {
   "cell_type": "markdown",
   "id": "d3bc1ee7",
   "metadata": {
    "heading_collapsed": true,
    "hidden": true
   },
   "source": [
    "### 5.4.2 Crie um tabela de comparação entre os resultados das 3 métricas ( r2, MSE e RMSE ) para cada uma das proporções de outliers ( 2%, 5%, 10%, 20% e 30% ) e responda as seguintes perguntas:"
   ]
  },
  {
   "cell_type": "code",
   "execution_count": 26,
   "id": "7dbae751",
   "metadata": {
    "ExecuteTime": {
     "end_time": "2023-05-22T18:36:50.579798Z",
     "start_time": "2023-05-22T18:36:50.551482Z"
    },
    "hidden": true
   },
   "outputs": [
    {
     "name": "stdout",
     "output_type": "stream",
     "text": [
      "╒════════════╤════════════╤═══════════╤═══════════╤════════════╤═══════════╤════════════╕\n",
      "│ Métricas   │   Original │        2% │        5% │        10% │       20% │        30% │\n",
      "╞════════════╪════════════╪═══════════╪═══════════╪════════════╪═══════════╪════════════╡\n",
      "│ R2         │     16.92  │    11.37  │     8.35  │      5.91  │      3.31 │      3.02  │\n",
      "├────────────┼────────────┼───────────┼───────────┼────────────┼───────────┼────────────┤\n",
      "│ MSE        │  39370.3   │ 61891.1   │ 90716.5   │ 140660     │ 219690    │ 275828     │\n",
      "├────────────┼────────────┼───────────┼───────────┼────────────┼───────────┼────────────┤\n",
      "│ RMSE       │    198.419 │   248.779 │   301.192 │    375.047 │    468.71 │    525.194 │\n",
      "╘════════════╧════════════╧═══════════╧═══════════╧════════════╧═══════════╧════════════╛\n"
     ]
    }
   ],
   "source": [
    "from tabulate import tabulate\n",
    "\n",
    "data = {\n",
    "    'Métricas': ['R2', 'MSE', 'RMSE'],\n",
    "    'Original': df_aux,\n",
    "    '2%': df_aux2,\n",
    "    '5%': df_aux5,\n",
    "    '10%': df_aux10,\n",
    "    '20%': df_aux20,\n",
    "    '30%': df_aux30,\n",
    "}\n",
    "\n",
    "table = tabulate(data, headers='keys', tablefmt='fancy_grid')\n",
    "\n",
    "print(table)"
   ]
  },
  {
   "cell_type": "markdown",
   "id": "0111e698",
   "metadata": {
    "heading_collapsed": true,
    "hidden": true
   },
   "source": [
    "#### 5.4.2.1 Como as métricas R2, MSE e RMSE se comportam com a variação outliers no conjunto de dados?"
   ]
  },
  {
   "cell_type": "markdown",
   "id": "86b9fe65",
   "metadata": {
    "hidden": true
   },
   "source": [
    "R2 - conforme a porcentagem de outliers aumentar no conjunto de dados o valor tende a ir diminuindo isso acaba afetando negativamente a capacidade do modelo.\n",
    "\n",
    "MSE - conforme vai aumentando os outliers aumenta o valor do erro também.\n",
    "\n",
    "RMSE - conforme aumenta os outliers aumenta disperção dos erros em relação aos valores reais"
   ]
  },
  {
   "cell_type": "markdown",
   "id": "f7017c1a",
   "metadata": {
    "heading_collapsed": true,
    "hidden": true
   },
   "source": [
    "#### 5.4.2.2 Observando as respostas anteriores, quais são as ações que aumentam ou diminuem as métricas de “R2”, “MSE” ou “RMSE” de um problema de negócio?"
   ]
  },
  {
   "cell_type": "markdown",
   "id": "54c2bff2",
   "metadata": {
    "hidden": true
   },
   "source": [
    "- tratar os outliers, precisaria analisar e ver se conseguimos colocar talvez a média no lugar desse valores altos\n",
    "- analisar as features, fazendo derivações ou criandos novas\n",
    "- seleção de features tirando as que não precisamos usar\n",
    "- normalização de variáveis\n",
    "- usar modelos mais modernos de regressão"
   ]
  }
 ],
 "metadata": {
  "kernelspec": {
   "display_name": "Python 3 (ipykernel)",
   "language": "python",
   "name": "python3"
  },
  "language_info": {
   "codemirror_mode": {
    "name": "ipython",
    "version": 3
   },
   "file_extension": ".py",
   "mimetype": "text/x-python",
   "name": "python",
   "nbconvert_exporter": "python",
   "pygments_lexer": "ipython3",
   "version": "3.8.16"
  }
 },
 "nbformat": 4,
 "nbformat_minor": 5
}
